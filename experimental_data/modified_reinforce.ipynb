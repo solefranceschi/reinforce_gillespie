{
 "cells": [
  {
   "cell_type": "markdown",
   "id": "5ea8555f-38b3-49a3-9fa7-fed7115d4cdf",
   "metadata": {},
   "source": [
    "# Modified REINFORCE"
   ]
  },
  {
   "cell_type": "markdown",
   "id": "245e659c-ae90-4bbc-b731-4a6e04be91cd",
   "metadata": {},
   "source": [
    "Try to implement the modified REINFORCE version(RLOO) and see if that has lower variance!!"
   ]
  },
  {
   "cell_type": "markdown",
   "id": "ddc06141-2a35-4f43-b243-f0c750a9cf83",
   "metadata": {},
   "source": [
    "In order to implement this, we are modifying the loss function to only consider mean mRNA (not variance as per trajectory variance is useless)"
   ]
  },
  {
   "cell_type": "code",
   "execution_count": 3,
   "id": "2d23d462-1f1d-47e3-b3a5-bb8a95dc6e97",
   "metadata": {},
   "outputs": [],
   "source": [
    "import numpy as np\n",
    "import torch\n",
    "import torch.optim as optim\n",
    "import os\n",
    "import torch.nn as nn\n",
    "from tqdm import tqdm\n",
    "import matplotlib.pyplot as plt\n",
    "import random"
   ]
  },
  {
   "cell_type": "code",
   "execution_count": 4,
   "id": "7e93189a-bc01-4186-bbd6-e47d7b4ba32d",
   "metadata": {},
   "outputs": [],
   "source": [
    "# Stoichiometric matrix defining the effect of each reaction on the system\n",
    "stoic_matrix = torch.tensor([[2.0, 0.0],    # Reaction 1: Promoter state goes from -1 to +1\n",
    "                             [0.0, 1.0],    # Reaction 2: mRNA is produced\n",
    "                             [-2.0, 0.0],   # Reaction 3: Promoter state goes from +1 to -1\n",
    "                             [0.0, -1.0]])  # Reaction 4: Degradation of mRNA\n",
    "\n",
    "device = 'cpu'\n",
    "\n",
    "def propensities(levels, poff, r, g):\n",
    "    promoter, mRNA = levels\n",
    "    k_on = (1.0 - poff) / poff\n",
    "\n",
    "    # Use `.float()` and ensure all terms are 0-dim tensors\n",
    "    a1 = (k_on * (promoter == -1).float()).reshape(())\n",
    "    a2 = (r * (promoter == -1).float()).reshape(())\n",
    "    a3 = (1.0 * (promoter == +1).float()).reshape(())\n",
    "    a4 = (g * mRNA).reshape(())\n",
    "\n",
    "    return torch.stack([a1, a2, a3, a4])\n",
    "\n",
    "def run_trajectories(poff, r, g):\n",
    "    all_trajectories = []\n",
    "    final_states = []\n",
    "    \n",
    "    for _ in range(num_simulations):\n",
    "        levels = torch.tensor([-1.0, 0.0], device=device)\n",
    "        t = 0.0\n",
    "        trajectory = []\n",
    "\n",
    "        while t < sim_time:\n",
    "            a = torch.relu(propensities(levels, poff, r, g))\n",
    "            a0 = a.sum()\n",
    "\n",
    "            #if a0.item() <= 1e-8 or torch.isnan(a0):\n",
    "            #    break\n",
    "\n",
    "            tau = -torch.log(torch.rand(1, device=device)) / a0\n",
    "            probs = a / a0\n",
    "            j = torch.multinomial(probs, 1).item()\n",
    "\n",
    "            trajectory.append((levels.clone(), j, tau.item()))\n",
    "            levels = levels + stoic_matrix[j]\n",
    "            levels[1] = torch.relu(levels[1])\n",
    "            t += tau.item()\n",
    "\n",
    "        all_trajectories.append(trajectory)\n",
    "        final_states.append(levels[1])\n",
    "\n",
    "    final_states = torch.stack(final_states)\n",
    "\n",
    "    return all_trajectories, final_states\n",
    "\n",
    "        \n",
    "def RLOO_estimate(poff, r, g, mean_data):\n",
    "    all_trajectories, final_states = run_trajectories(poff, r, g)\n",
    "    N = len(all_trajectories)\n",
    "    eps = 1e-8\n",
    "\n",
    "    losses = []\n",
    "    log_grads = []\n",
    "\n",
    "    for n in range(N):\n",
    "        trajectory = all_trajectories[n]\n",
    "        final_mRNA = final_states[n]\n",
    "\n",
    "        #per-trajectory loss \n",
    "        loss_n = (final_mRNA - mean_data)**2\n",
    "        losses.append(loss_n)\n",
    "\n",
    "        # Compute score function gradient ∇ log p(τ_n)\n",
    "        poff_, r_, g_ = poff.clone().detach().requires_grad_(), r.clone().detach().requires_grad_(), g.clone().detach().requires_grad_()\n",
    "        log_grad = [0.0, 0.0, 0.0]\n",
    "        \n",
    "        for (x_prev, j, tau) in trajectory:\n",
    "            a = torch.relu(propensities(x_prev, poff_, r_, g_))\n",
    "            a0 = a.sum()\n",
    "            aj = a[j]\n",
    "    \n",
    "            d_aj = torch.autograd.grad(aj, (poff_, r_, g_), retain_graph=True, allow_unused=True)\n",
    "            d_a0 = torch.autograd.grad(a0, (poff_, r_, g_), retain_graph=True, allow_unused=True)\n",
    "    \n",
    "            d_aj = [g if g is not None else torch.tensor(0.0, device=poff.device) for g in d_aj]\n",
    "            d_a0 = [g if g is not None else torch.tensor(0.0, device=poff.device) for g in d_a0]\n",
    "    \n",
    "            aj_safe = aj if aj.abs() > eps else eps\n",
    "            log_grad_step = [daj_i / aj_safe - tau * da0_i for daj_i, da0_i in zip(d_aj, d_a0)]\n",
    "    \n",
    "            log_grad = [sum(x) for x in zip(log_grad, log_grad_step)] if isinstance(log_grad, list) else log_grad_step\n",
    "\n",
    "        log_grads.append(log_grad)\n",
    "\n",
    "    #RLOO gradient\n",
    "    total_loss = torch.sum(torch.stack(losses))\n",
    "    grad_poff = 0.0\n",
    "    grad_r = 0.0\n",
    "    grad_g = 0.0\n",
    "\n",
    "    for n in range(N):\n",
    "        baseline = (total_loss - losses[n]) / (N-1)\n",
    "        advantage = losses[n] - baseline\n",
    "\n",
    "        #scale the score-function gradient by the RLOO advantage within the loop\n",
    "        grad_poff += advantage * log_grads[n][0]\n",
    "        grad_r    += advantage * log_grads[n][1]\n",
    "        grad_g    += advantage * log_grads[n][2]\n",
    "    \n",
    "\n",
    "    # Normalize gradients\n",
    "    grad_poff /= N\n",
    "    grad_r    /= N\n",
    "    grad_g    /= N\n",
    "\n",
    "    # Also return mean loss for logging\n",
    "    avg_loss = total_loss / N\n",
    "\n",
    "    return grad_poff, grad_r, grad_g, avg_loss\n",
    "\n",
    "# Define a function to write data to a file\n",
    "def write_to_file(filename, *args):\n",
    "    with open(filename, 'a') as file:\n",
    "        file.write(' '.join(map(str, args)) + '\\n')"
   ]
  },
  {
   "cell_type": "code",
   "execution_count": 7,
   "id": "4204e559-3e93-4719-9a86-5bb4215da42c",
   "metadata": {},
   "outputs": [],
   "source": [
    "# Load the data from file for 5DL1 promoter \n",
    "data=np.load(\"science_data_5DL1.npy\")\n",
    "\n",
    "# Extract x and y data\n",
    "x_data = data[:, 0]\n",
    "y_data = data[:, 1]\n",
    "\n",
    "# Get unique x values and their corresponding indices\n",
    "unique_x, unique_indices = np.unique(x_data, return_index=True)\n",
    "\n",
    "# Extract unique y values based on unique indices\n",
    "unique_y = y_data[unique_indices]\n",
    "\n",
    "# Create unique data array with x and y values\n",
    "unique_data = np.column_stack((unique_x, unique_y))\n",
    "\n",
    "# Convert mean and variance data to torch tensors\n",
    "mean_data = torch.from_numpy(unique_data[:, 0]).double()\n",
    "var_data = mean_data * torch.from_numpy(unique_data[:, 1]).double()"
   ]
  },
  {
   "cell_type": "markdown",
   "id": "11d8837e-2514-43e9-9803-a91addcdfbe9",
   "metadata": {},
   "source": [
    "## ADAM Optimizer"
   ]
  },
  {
   "cell_type": "code",
   "execution_count": 12,
   "id": "f14a4339-e2b2-45d9-b6a6-184e34b43f24",
   "metadata": {},
   "outputs": [
    {
     "name": "stderr",
     "output_type": "stream",
     "text": [
      "  0%|▏                                          | 1/250 [00:09<37:21,  9.00s/it]"
     ]
    },
    {
     "name": "stdout",
     "output_type": "stream",
     "text": [
      "Epoch 0: Loss = 34.8110\n"
     ]
    },
    {
     "name": "stderr",
     "output_type": "stream",
     "text": [
      "  4%|█▊                                        | 11/250 [01:31<32:00,  8.03s/it]"
     ]
    },
    {
     "name": "stdout",
     "output_type": "stream",
     "text": [
      "Epoch 10: Loss = 27.5200\n"
     ]
    },
    {
     "name": "stderr",
     "output_type": "stream",
     "text": [
      "  8%|███▌                                      | 21/250 [02:45<27:34,  7.22s/it]"
     ]
    },
    {
     "name": "stdout",
     "output_type": "stream",
     "text": [
      "Epoch 20: Loss = 19.9745\n"
     ]
    },
    {
     "name": "stderr",
     "output_type": "stream",
     "text": [
      " 12%|█████▏                                    | 31/250 [03:51<23:14,  6.37s/it]"
     ]
    },
    {
     "name": "stdout",
     "output_type": "stream",
     "text": [
      "Epoch 30: Loss = 13.6723\n"
     ]
    },
    {
     "name": "stderr",
     "output_type": "stream",
     "text": [
      " 16%|██████▉                                   | 41/250 [04:46<18:56,  5.44s/it]"
     ]
    },
    {
     "name": "stdout",
     "output_type": "stream",
     "text": [
      "Epoch 40: Loss = 9.0159\n"
     ]
    },
    {
     "name": "stderr",
     "output_type": "stream",
     "text": [
      " 20%|████████▌                                 | 51/250 [05:33<14:47,  4.46s/it]"
     ]
    },
    {
     "name": "stdout",
     "output_type": "stream",
     "text": [
      "Epoch 50: Loss = 5.8948\n"
     ]
    },
    {
     "name": "stderr",
     "output_type": "stream",
     "text": [
      " 24%|██████████▏                               | 61/250 [06:11<11:20,  3.60s/it]"
     ]
    },
    {
     "name": "stdout",
     "output_type": "stream",
     "text": [
      "Epoch 60: Loss = 5.1432\n"
     ]
    },
    {
     "name": "stderr",
     "output_type": "stream",
     "text": [
      " 28%|███████████▉                              | 71/250 [06:44<10:11,  3.42s/it]"
     ]
    },
    {
     "name": "stdout",
     "output_type": "stream",
     "text": [
      "Epoch 70: Loss = 4.9470\n"
     ]
    },
    {
     "name": "stderr",
     "output_type": "stream",
     "text": [
      " 32%|█████████████▌                            | 81/250 [07:22<10:39,  3.78s/it]"
     ]
    },
    {
     "name": "stdout",
     "output_type": "stream",
     "text": [
      "Epoch 80: Loss = 4.8428\n"
     ]
    },
    {
     "name": "stderr",
     "output_type": "stream",
     "text": [
      " 36%|███████████████▎                          | 91/250 [07:58<09:22,  3.54s/it]"
     ]
    },
    {
     "name": "stdout",
     "output_type": "stream",
     "text": [
      "Epoch 90: Loss = 4.7194\n"
     ]
    },
    {
     "name": "stderr",
     "output_type": "stream",
     "text": [
      " 40%|████████████████▌                        | 101/250 [08:33<08:53,  3.58s/it]"
     ]
    },
    {
     "name": "stdout",
     "output_type": "stream",
     "text": [
      "Epoch 100: Loss = 4.5330\n"
     ]
    },
    {
     "name": "stderr",
     "output_type": "stream",
     "text": [
      " 44%|██████████████████▏                      | 111/250 [09:10<08:39,  3.73s/it]"
     ]
    },
    {
     "name": "stdout",
     "output_type": "stream",
     "text": [
      "Epoch 110: Loss = 4.7422\n"
     ]
    },
    {
     "name": "stderr",
     "output_type": "stream",
     "text": [
      " 48%|███████████████████▊                     | 121/250 [09:47<07:48,  3.63s/it]"
     ]
    },
    {
     "name": "stdout",
     "output_type": "stream",
     "text": [
      "Epoch 120: Loss = 4.6512\n"
     ]
    },
    {
     "name": "stderr",
     "output_type": "stream",
     "text": [
      " 52%|█████████████████████▍                   | 131/250 [10:22<07:10,  3.61s/it]"
     ]
    },
    {
     "name": "stdout",
     "output_type": "stream",
     "text": [
      "Epoch 130: Loss = 4.5374\n"
     ]
    },
    {
     "name": "stderr",
     "output_type": "stream",
     "text": [
      " 56%|███████████████████████                  | 141/250 [10:59<06:35,  3.62s/it]"
     ]
    },
    {
     "name": "stdout",
     "output_type": "stream",
     "text": [
      "Epoch 140: Loss = 4.7521\n"
     ]
    },
    {
     "name": "stderr",
     "output_type": "stream",
     "text": [
      " 60%|████████████████████████▊                | 151/250 [11:36<06:05,  3.69s/it]"
     ]
    },
    {
     "name": "stdout",
     "output_type": "stream",
     "text": [
      "Epoch 150: Loss = 4.4471\n"
     ]
    },
    {
     "name": "stderr",
     "output_type": "stream",
     "text": [
      " 64%|██████████████████████████▍              | 161/250 [12:12<05:25,  3.66s/it]"
     ]
    },
    {
     "name": "stdout",
     "output_type": "stream",
     "text": [
      "Epoch 160: Loss = 4.2523\n"
     ]
    },
    {
     "name": "stderr",
     "output_type": "stream",
     "text": [
      " 68%|████████████████████████████             | 171/250 [12:48<04:44,  3.61s/it]"
     ]
    },
    {
     "name": "stdout",
     "output_type": "stream",
     "text": [
      "Epoch 170: Loss = 4.0704\n"
     ]
    },
    {
     "name": "stderr",
     "output_type": "stream",
     "text": [
      " 72%|█████████████████████████████▋           | 181/250 [13:26<04:23,  3.82s/it]"
     ]
    },
    {
     "name": "stdout",
     "output_type": "stream",
     "text": [
      "Epoch 180: Loss = 4.6133\n"
     ]
    },
    {
     "name": "stderr",
     "output_type": "stream",
     "text": [
      " 76%|███████████████████████████████▎         | 191/250 [14:06<03:50,  3.91s/it]"
     ]
    },
    {
     "name": "stdout",
     "output_type": "stream",
     "text": [
      "Epoch 190: Loss = 4.1651\n"
     ]
    },
    {
     "name": "stderr",
     "output_type": "stream",
     "text": [
      " 80%|████████████████████████████████▉        | 201/250 [14:44<03:03,  3.74s/it]"
     ]
    },
    {
     "name": "stdout",
     "output_type": "stream",
     "text": [
      "Epoch 200: Loss = 4.4330\n"
     ]
    },
    {
     "name": "stderr",
     "output_type": "stream",
     "text": [
      " 84%|██████████████████████████████████▌      | 211/250 [15:22<02:28,  3.82s/it]"
     ]
    },
    {
     "name": "stdout",
     "output_type": "stream",
     "text": [
      "Epoch 210: Loss = 4.2696\n"
     ]
    },
    {
     "name": "stderr",
     "output_type": "stream",
     "text": [
      " 88%|████████████████████████████████████▏    | 221/250 [16:00<01:48,  3.75s/it]"
     ]
    },
    {
     "name": "stdout",
     "output_type": "stream",
     "text": [
      "Epoch 220: Loss = 4.3414\n"
     ]
    },
    {
     "name": "stderr",
     "output_type": "stream",
     "text": [
      " 92%|█████████████████████████████████████▉   | 231/250 [16:38<01:11,  3.79s/it]"
     ]
    },
    {
     "name": "stdout",
     "output_type": "stream",
     "text": [
      "Epoch 230: Loss = 4.3802\n"
     ]
    },
    {
     "name": "stderr",
     "output_type": "stream",
     "text": [
      " 96%|███████████████████████████████████████▌ | 241/250 [17:15<00:33,  3.71s/it]"
     ]
    },
    {
     "name": "stdout",
     "output_type": "stream",
     "text": [
      "Epoch 240: Loss = 4.1493\n"
     ]
    },
    {
     "name": "stderr",
     "output_type": "stream",
     "text": [
      "100%|█████████████████████████████████████████| 250/250 [17:49<00:00,  4.28s/it]\n"
     ]
    }
   ],
   "source": [
    "# Set seed for reproducibility \n",
    "torch.manual_seed(42)\n",
    "\n",
    "# Define simulation hyperparameters\n",
    "num_iterations = 250\n",
    "num_simulations = 100\n",
    "sim_time = 0.2\n",
    "\n",
    "poff_values = torch.nn.Parameter(torch.linspace(0.03, 0.97, len(unique_data)))\n",
    "r = torch.nn.Parameter((1e+2) * torch.rand(1))\n",
    "g = torch.nn.Parameter((1e+1) * torch.rand(1))\n",
    "optimizer = optim.Adam([poff_values, r, g], lr = 0.01)\n",
    "\n",
    "#save to file\n",
    "filename1 = \"RLOO_poff_250.txt\"\n",
    "filename2 = \"RLOO_main_250.txt\"\n",
    "if os.path.exists(filename1):\n",
    "    os.remove(filename1)\n",
    "if os.path.exists(filename2):\n",
    "    os.remove(filename2)\n",
    "\n",
    "for iteration in tqdm(range(num_iterations)):\n",
    "    optimizer.zero_grad()\n",
    "\n",
    "    grad_poff = torch.zeros_like(poff_values)\n",
    "    grad_r = torch.zeros_like(r)\n",
    "    grad_g = torch.zeros_like(g)\n",
    "    total_loss = 0.0\n",
    "\n",
    "    for i in range(len(unique_data)):\n",
    "        dp, dr, dg, loss = RLOO_estimate(poff_values[i], r, g, mean_data[i])\n",
    "        grad_poff[i] = dp\n",
    "        grad_r += dr\n",
    "        grad_g += dg\n",
    "        total_loss += loss\n",
    "\n",
    "    grad_r /= len(unique_data)\n",
    "    grad_g /= len(unique_data)\n",
    "    total_loss /= len(unique_data)\n",
    "\n",
    "    poff_values.grad = grad_poff\n",
    "    r.grad = grad_r\n",
    "    g.grad = grad_g\n",
    "\n",
    "    torch.nn.utils.clip_grad_norm_([poff_values, r, g], max_norm=1.0)\n",
    "    optimizer.step()\n",
    "\n",
    "    # Clamp and sort as in original\n",
    "    with torch.no_grad():\n",
    "        r.data.clamp_(min=1.0)\n",
    "        g.data.clamp_(min=1.0, max=r.item())\n",
    "        poff_values.data.clamp_(min=0.01, max=0.98)\n",
    "        poff_values.data, _ = torch.sort(poff_values.data)\n",
    "\n",
    "    # Save every 10 iterations\n",
    "    if iteration % 10 == 0:\n",
    "        print(f\"Epoch {iteration}: Loss = {total_loss.item():.4f}\")\n",
    "\n",
    "    if iteration %1 == 0:\n",
    "        write_to_file(filename2, iteration, r.item(), g.item(), r.item() / g.item(), total_loss.item())\n",
    "        write_to_file(filename1, poff_values.tolist(), total_loss.item())\n"
   ]
  },
  {
   "cell_type": "markdown",
   "id": "7b3f6b17-db11-4d84-88e5-d4200aabb82c",
   "metadata": {},
   "source": [
    "### value extraction for RLOO"
   ]
  },
  {
   "cell_type": "code",
   "execution_count": 9,
   "id": "7ab49bda-eac2-408f-8264-983d110b2c65",
   "metadata": {},
   "outputs": [],
   "source": [
    "data = np.loadtxt(\"RLOO_main_250.txt\")\n",
    "row_index = np.argmin(data[:, -1])\n",
    "r_best = data[row_index, 1]\n",
    "g_best = data[row_index, 2]\n",
    "\n",
    "poff_values = []\n",
    "with open(\"RLOO_poff_250.txt\", \"r\") as file:\n",
    "    for line in file:\n",
    "        list_str = line.rsplit(' ', 1)[0]\n",
    "        list_str = list_str.strip('[').strip(']')\n",
    "        str_values = list_str.split(',')\n",
    "        row = [float(value) for value in str_values]\n",
    "        poff_values.append(row)\n",
    "\n",
    "poff_values = poff_values[row_index][:len(unique_data)]"
   ]
  },
  {
   "cell_type": "markdown",
   "id": "c04a49ae-c5d7-4297-b0c4-2fb463b35b6c",
   "metadata": {},
   "source": [
    "### import dga data"
   ]
  },
  {
   "cell_type": "code",
   "execution_count": 12,
   "id": "3c0e2363-47f3-475f-a9c3-7c5f1d5f09fe",
   "metadata": {},
   "outputs": [],
   "source": [
    "# Find the row index with minimum loss value. \n",
    "data_dga=np.loadtxt(\"learning_science_5DL1_250.txt\")\n",
    "row_index_dga = np.argmin(data_dga[:, -1])\n",
    "r_dga=data_dga[row_index_dga,1]\n",
    "g_dga=data_dga[row_index_dga, 2]\n",
    "\n",
    "# Path to poff_values\n",
    "file_path_dga = 'learning_science_5DL1_poff_250.txt'\n",
    "\n",
    "# Initialize an empty list to store rows\n",
    "poff_values_dga = []\n",
    "\n",
    "with open(file_path_dga, 'r') as file:\n",
    "    for line in file:\n",
    "        # Remove the trailing number by splitting at the last space and taking the first part\n",
    "        list_str = line.rsplit(' ', 1)[0]\n",
    "        # Remove surrounding brackets\n",
    "        list_str = list_str.strip('[').strip(']')\n",
    "        # Split the remaining string by commas to form a list of strings\n",
    "        str_values = list_str.split(',')\n",
    "        # Convert strings to floats\n",
    "        row = [float(value) for value in str_values]\n",
    "        # Append the row to our data list\n",
    "        poff_values_dga.append(row)\n",
    "  \n",
    "poff_values_dga = poff_values_dga[row_index_dga][:len(unique_data)] "
   ]
  },
  {
   "cell_type": "markdown",
   "id": "d36ff35d-3543-448a-bb19-0cd56a78c252",
   "metadata": {},
   "source": [
    "## import REINFORCE with baseline data"
   ]
  },
  {
   "cell_type": "code",
   "execution_count": 15,
   "id": "0e339f88-4137-4aa7-9d51-2a2e0a4e1a7e",
   "metadata": {},
   "outputs": [],
   "source": [
    "data_b = np.loadtxt(\"reinforce_main_baseline_250.txt\")\n",
    "row_index_b = np.argmin(data_b[:, -1])\n",
    "r_b = data_b[row_index_b, 1]\n",
    "g_b = data_b[row_index_b, 2]\n",
    "\n",
    "poff_values_b = []\n",
    "with open(\"reinforce_poff_baseline_250.txt\", \"r\") as file:\n",
    "    for line in file:\n",
    "        list_str = line.rsplit(' ', 1)[0]\n",
    "        list_str = list_str.strip('[').strip(']')\n",
    "        str_values = list_str.split(',')\n",
    "        row = [float(value) for value in str_values]\n",
    "        poff_values_b.append(row)\n",
    "\n",
    "poff_values_b = poff_values_b[row_index_b][:len(unique_data)]"
   ]
  },
  {
   "cell_type": "markdown",
   "id": "36ea229b-8a32-4877-983a-e0ec3878da22",
   "metadata": {},
   "source": [
    "## Mean vs Fano Factor"
   ]
  },
  {
   "cell_type": "markdown",
   "id": "9687e1aa-419d-44ed-ab5f-d0a3402a020d",
   "metadata": {},
   "source": [
    "### RLOO"
   ]
  },
  {
   "cell_type": "code",
   "execution_count": 19,
   "id": "8b930ed1-6f04-4cac-9f45-7a050ae48530",
   "metadata": {},
   "outputs": [],
   "source": [
    "#simulation data\n",
    "poff_range = torch.linspace(0.005, 0.97, 500)\n",
    "k_off = 1\n",
    "\n",
    "mean_expression = []\n",
    "fano_factors = []\n",
    "for i in poff_range:\n",
    "    k_on = (1.0 - i) / i\n",
    "    m = k_off/(k_on + k_off) * r_best/g_best\n",
    "    mean_expression.append(m)\n",
    "    f = 1 + (k_on/(k_on + k_off)) * (r_best / (k_on + k_off+g_best))\n",
    "    fano_factors.append(f)\n",
    "\n",
    "#convert to numpy \n",
    "mean_expression = torch.tensor(mean_expression).detach().numpy()\n",
    "fano_factors = torch.tensor(fano_factors).detach().numpy()"
   ]
  },
  {
   "cell_type": "markdown",
   "id": "943c9975-a7a7-4f87-a751-997fa7d50671",
   "metadata": {},
   "source": [
    "### DGA"
   ]
  },
  {
   "cell_type": "code",
   "execution_count": 22,
   "id": "31e551b2-28aa-410b-bec5-7ee5c703fa21",
   "metadata": {},
   "outputs": [],
   "source": [
    "#simulation data\n",
    "poff_range_dga = torch.linspace(0.005, 0.97, 500)\n",
    "k_off = 1\n",
    "\n",
    "mean_expression_dga = []\n",
    "fano_factors_dga = []\n",
    "for i in poff_range_dga:\n",
    "    k_on = (1.0 - i) / i\n",
    "    m = k_off/(k_on + k_off) * r_dga/g_dga\n",
    "    mean_expression_dga.append(m)\n",
    "    f = 1 + (k_on/(k_on + k_off)) * (r_dga / (k_on + k_off+g_dga))\n",
    "    fano_factors_dga.append(f)"
   ]
  },
  {
   "cell_type": "markdown",
   "id": "3bfb5d02-ebaf-4cd4-83ef-4b6e2741b28b",
   "metadata": {},
   "source": [
    "### Baseline"
   ]
  },
  {
   "cell_type": "code",
   "execution_count": 25,
   "id": "0afd167e-4118-42cb-b72f-d0d898a28fab",
   "metadata": {},
   "outputs": [],
   "source": [
    "#with baseline\n",
    "poff_range_b = torch.linspace(0.005, 0.97, 500)\n",
    "k_off = 1\n",
    "\n",
    "mean_expression_b = []\n",
    "fano_factors_b = []\n",
    "for i in poff_range_b:\n",
    "    k_on = (1.0 - i) / i\n",
    "    m = k_off/(k_on + k_off) * r_b/g_b\n",
    "    mean_expression_b.append(m)\n",
    "    f = 1 + (k_on/(k_on + k_off)) * (r_b / (k_on + k_off+g_b))\n",
    "    fano_factors_b.append(f)\n",
    "\n",
    "#convert to numpy \n",
    "mean_expression_b = torch.tensor(mean_expression_b).detach().numpy()\n",
    "fano_factors_b = torch.tensor(fano_factors_b).detach().numpy()"
   ]
  },
  {
   "cell_type": "markdown",
   "id": "61f65d6c-ad60-45f9-8ed2-ff5d5c685a6b",
   "metadata": {},
   "source": [
    "### Experimental Data"
   ]
  },
  {
   "cell_type": "code",
   "execution_count": 28,
   "id": "40da67cf-9b10-4267-9103-b2f1657ed15d",
   "metadata": {},
   "outputs": [],
   "source": [
    "#experimental data\n",
    "fano_factor_exp = var_data / mean_data\n",
    "\n",
    "# Calculate standard error for plotting (optional, adjust as needed)\n",
    "std_mRNA = np.sqrt(mean_data)/np.sqrt(17)  # or from your data\n",
    "std_fano = np.sqrt(fano_factor_exp)/np.sqrt(17)  # or from variance propagation"
   ]
  },
  {
   "cell_type": "markdown",
   "id": "9d11e1bb-1901-43eb-af6a-bb437f10f358",
   "metadata": {},
   "source": [
    "## Plot Graph"
   ]
  },
  {
   "cell_type": "code",
   "execution_count": 35,
   "id": "cd461b11-6e72-4de1-a8f8-a1901c32394a",
   "metadata": {},
   "outputs": [
    {
     "data": {
      "image/png": "[encoded data removed]",
      "text/plain": [
       "<Figure size 1000x600 with 1 Axes>"
      ]
     },
     "metadata": {},
     "output_type": "display_data"
    }
   ],
   "source": [
    "# Plot\n",
    "plt.figure(figsize=(10, 6))\n",
    "#plt.plot(mean_expression_dga, fano_factors_dga, label=\"Prediction DGA\", linewidth=2, color =\"violet\")\n",
    "plt.plot(mean_expression_b, fano_factors_b, label=\"Prediction REINFORCE with Baseline\", linewidth=2, color =\"deepskyblue\")\n",
    "plt.plot(mean_expression, fano_factors, label=\"Prediction RLOO\", linewidth=2, color =\"blueviolet\")\n",
    "plt.errorbar(mean_data, fano_factor_exp, yerr=std_fano, fmt='s', color='red', ecolor='red', capsize=3, label = \"Experimental Data\")\n",
    "plt.xlabel(\"Mean mRNA\", fontsize = 16)\n",
    "plt.ylabel(\"Fano Factor\", fontsize = 16)\n",
    "plt.xscale('log')\n",
    "plt.legend(fontsize = 12, loc = \"upper left\")\n",
    "plt.xticks(fontsize=15)\n",
    "plt.yticks(fontsize=15)\n",
    "plt.grid(True)\n",
    "plt.savefig(\"rloo_5DL1.png\", dpi=150)\n",
    "plt.show()"
   ]
  },
  {
   "cell_type": "markdown",
   "id": "ec9301c5-4d91-4f3f-8e88-53db667d48d8",
   "metadata": {},
   "source": [
    "## Second mRNA"
   ]
  },
  {
   "cell_type": "code",
   "execution_count": 89,
   "id": "2cf0a299-07e6-4f48-a81e-ac5d96358625",
   "metadata": {},
   "outputs": [],
   "source": [
    "# Load the data from file for lacUD5 promoter \n",
    "data=np.load(\"science_data_lacUD5.npy\")\n",
    "\n",
    "# Extract x and y data\n",
    "x_data = data[:, 0]\n",
    "y_data = data[:, 1]\n",
    "\n",
    "# Get unique x values and their corresponding indices\n",
    "unique_x, unique_indices = np.unique(x_data, return_index=True)\n",
    "\n",
    "# Extract unique y values based on unique indices\n",
    "unique_y = y_data[unique_indices]\n",
    "\n",
    "# Create unique data array with x and y values\n",
    "unique_data_lacUD5 = np.column_stack((unique_x, unique_y))\n",
    "\n",
    "# Convert mean and variance data to torch tensors\n",
    "mean_data_lacUD5 = torch.from_numpy(unique_data_lacUD5[:, 0]).double()\n",
    "var_data_lacUD5 = mean_data_lacUD5 * torch.from_numpy(unique_data_lacUD5[:, 1]).double()"
   ]
  },
  {
   "cell_type": "code",
   "execution_count": 112,
   "id": "c5d22162-6b0d-456e-b92c-4b5a8d95722f",
   "metadata": {},
   "outputs": [
    {
     "name": "stderr",
     "output_type": "stream",
     "text": [
      "  0%|▏                                          | 1/250 [00:02<08:23,  2.02s/it]"
     ]
    },
    {
     "name": "stdout",
     "output_type": "stream",
     "text": [
      "Epoch 0: Loss = 16.2766\n"
     ]
    },
    {
     "name": "stderr",
     "output_type": "stream",
     "text": [
      "  4%|█▊                                        | 11/250 [00:20<07:28,  1.88s/it]"
     ]
    },
    {
     "name": "stdout",
     "output_type": "stream",
     "text": [
      "Epoch 10: Loss = 14.4903\n"
     ]
    },
    {
     "name": "stderr",
     "output_type": "stream",
     "text": [
      "  8%|███▌                                      | 21/250 [00:38<06:34,  1.72s/it]"
     ]
    },
    {
     "name": "stdout",
     "output_type": "stream",
     "text": [
      "Epoch 20: Loss = 13.4172\n"
     ]
    },
    {
     "name": "stderr",
     "output_type": "stream",
     "text": [
      " 12%|█████▏                                    | 31/250 [00:54<05:40,  1.56s/it]"
     ]
    },
    {
     "name": "stdout",
     "output_type": "stream",
     "text": [
      "Epoch 30: Loss = 12.3959\n"
     ]
    },
    {
     "name": "stderr",
     "output_type": "stream",
     "text": [
      " 16%|██████▉                                   | 41/250 [01:08<04:56,  1.42s/it]"
     ]
    },
    {
     "name": "stdout",
     "output_type": "stream",
     "text": [
      "Epoch 40: Loss = 11.5342\n"
     ]
    },
    {
     "name": "stderr",
     "output_type": "stream",
     "text": [
      " 20%|████████▌                                 | 51/250 [01:21<04:17,  1.29s/it]"
     ]
    },
    {
     "name": "stdout",
     "output_type": "stream",
     "text": [
      "Epoch 50: Loss = 11.4429\n"
     ]
    },
    {
     "name": "stderr",
     "output_type": "stream",
     "text": [
      " 24%|██████████▏                               | 61/250 [01:34<04:02,  1.28s/it]"
     ]
    },
    {
     "name": "stdout",
     "output_type": "stream",
     "text": [
      "Epoch 60: Loss = 11.0293\n"
     ]
    },
    {
     "name": "stderr",
     "output_type": "stream",
     "text": [
      " 28%|███████████▉                              | 71/250 [01:47<03:55,  1.32s/it]"
     ]
    },
    {
     "name": "stdout",
     "output_type": "stream",
     "text": [
      "Epoch 70: Loss = 10.3349\n"
     ]
    },
    {
     "name": "stderr",
     "output_type": "stream",
     "text": [
      " 32%|█████████████▌                            | 81/250 [02:00<03:39,  1.30s/it]"
     ]
    },
    {
     "name": "stdout",
     "output_type": "stream",
     "text": [
      "Epoch 80: Loss = 10.8026\n"
     ]
    },
    {
     "name": "stderr",
     "output_type": "stream",
     "text": [
      " 36%|███████████████▎                          | 91/250 [02:13<03:23,  1.28s/it]"
     ]
    },
    {
     "name": "stdout",
     "output_type": "stream",
     "text": [
      "Epoch 90: Loss = 11.0187\n"
     ]
    },
    {
     "name": "stderr",
     "output_type": "stream",
     "text": [
      " 40%|████████████████▌                        | 101/250 [02:26<03:15,  1.31s/it]"
     ]
    },
    {
     "name": "stdout",
     "output_type": "stream",
     "text": [
      "Epoch 100: Loss = 10.8445\n"
     ]
    },
    {
     "name": "stderr",
     "output_type": "stream",
     "text": [
      " 44%|██████████████████▏                      | 111/250 [02:39<03:01,  1.31s/it]"
     ]
    },
    {
     "name": "stdout",
     "output_type": "stream",
     "text": [
      "Epoch 110: Loss = 10.9084\n"
     ]
    },
    {
     "name": "stderr",
     "output_type": "stream",
     "text": [
      " 48%|███████████████████▊                     | 121/250 [02:52<02:47,  1.30s/it]"
     ]
    },
    {
     "name": "stdout",
     "output_type": "stream",
     "text": [
      "Epoch 120: Loss = 10.6842\n"
     ]
    },
    {
     "name": "stderr",
     "output_type": "stream",
     "text": [
      " 52%|█████████████████████▍                   | 131/250 [03:05<02:35,  1.30s/it]"
     ]
    },
    {
     "name": "stdout",
     "output_type": "stream",
     "text": [
      "Epoch 130: Loss = 10.4567\n"
     ]
    },
    {
     "name": "stderr",
     "output_type": "stream",
     "text": [
      " 56%|███████████████████████                  | 141/250 [03:18<02:22,  1.31s/it]"
     ]
    },
    {
     "name": "stdout",
     "output_type": "stream",
     "text": [
      "Epoch 140: Loss = 10.0206\n"
     ]
    },
    {
     "name": "stderr",
     "output_type": "stream",
     "text": [
      " 60%|████████████████████████▊                | 151/250 [03:32<02:08,  1.30s/it]"
     ]
    },
    {
     "name": "stdout",
     "output_type": "stream",
     "text": [
      "Epoch 150: Loss = 9.5056\n"
     ]
    },
    {
     "name": "stderr",
     "output_type": "stream",
     "text": [
      " 64%|██████████████████████████▍              | 161/250 [03:44<01:55,  1.29s/it]"
     ]
    },
    {
     "name": "stdout",
     "output_type": "stream",
     "text": [
      "Epoch 160: Loss = 9.8216\n"
     ]
    },
    {
     "name": "stderr",
     "output_type": "stream",
     "text": [
      " 68%|████████████████████████████             | 171/250 [03:57<01:43,  1.30s/it]"
     ]
    },
    {
     "name": "stdout",
     "output_type": "stream",
     "text": [
      "Epoch 170: Loss = 9.5104\n"
     ]
    },
    {
     "name": "stderr",
     "output_type": "stream",
     "text": [
      " 72%|█████████████████████████████▋           | 181/250 [04:10<01:30,  1.32s/it]"
     ]
    },
    {
     "name": "stdout",
     "output_type": "stream",
     "text": [
      "Epoch 180: Loss = 9.5089\n"
     ]
    },
    {
     "name": "stderr",
     "output_type": "stream",
     "text": [
      " 76%|███████████████████████████████▎         | 191/250 [04:23<01:14,  1.27s/it]"
     ]
    },
    {
     "name": "stdout",
     "output_type": "stream",
     "text": [
      "Epoch 190: Loss = 10.2301\n"
     ]
    },
    {
     "name": "stderr",
     "output_type": "stream",
     "text": [
      " 80%|████████████████████████████████▉        | 201/250 [04:36<01:03,  1.29s/it]"
     ]
    },
    {
     "name": "stdout",
     "output_type": "stream",
     "text": [
      "Epoch 200: Loss = 8.8223\n"
     ]
    },
    {
     "name": "stderr",
     "output_type": "stream",
     "text": [
      " 84%|██████████████████████████████████▌      | 211/250 [04:49<00:50,  1.31s/it]"
     ]
    },
    {
     "name": "stdout",
     "output_type": "stream",
     "text": [
      "Epoch 210: Loss = 9.0412\n"
     ]
    },
    {
     "name": "stderr",
     "output_type": "stream",
     "text": [
      " 88%|████████████████████████████████████▏    | 221/250 [05:02<00:37,  1.30s/it]"
     ]
    },
    {
     "name": "stdout",
     "output_type": "stream",
     "text": [
      "Epoch 220: Loss = 8.6714\n"
     ]
    },
    {
     "name": "stderr",
     "output_type": "stream",
     "text": [
      " 92%|█████████████████████████████████████▉   | 231/250 [05:15<00:24,  1.31s/it]"
     ]
    },
    {
     "name": "stdout",
     "output_type": "stream",
     "text": [
      "Epoch 230: Loss = 9.2367\n"
     ]
    },
    {
     "name": "stderr",
     "output_type": "stream",
     "text": [
      " 96%|███████████████████████████████████████▌ | 241/250 [05:28<00:11,  1.26s/it]"
     ]
    },
    {
     "name": "stdout",
     "output_type": "stream",
     "text": [
      "Epoch 240: Loss = 9.4556\n"
     ]
    },
    {
     "name": "stderr",
     "output_type": "stream",
     "text": [
      "100%|█████████████████████████████████████████| 250/250 [05:39<00:00,  1.36s/it]\n"
     ]
    }
   ],
   "source": [
    "#parameters\n",
    "# Set seed for reproducibility \n",
    "torch.manual_seed(40)\n",
    "\n",
    "# Define simulation hyperparameters\n",
    "num_iterations = 250\n",
    "num_simulations = 50\n",
    "sim_time = 0.2\n",
    "\n",
    "poff_values = torch.nn.Parameter(torch.linspace(0.03, 0.97, len(unique_data_lacUD5)))\n",
    "r = torch.nn.Parameter((1e+2) * torch.rand(1))\n",
    "g = torch.nn.Parameter((1e+1) * torch.rand(1))\n",
    "optimizer = optim.Adam([poff_values, r, g], lr = 0.01)\n",
    "\n",
    "#save to file\n",
    "filename1 = \"RLOO_poff_lacUD5_250.txt\"\n",
    "filename2 = \"RLOO_main_lacUD5_250.txt\"\n",
    "if os.path.exists(filename1):\n",
    "    os.remove(filename1)\n",
    "if os.path.exists(filename2):\n",
    "    os.remove(filename2)\n",
    "\n",
    "for iteration in tqdm(range(num_iterations)):\n",
    "    optimizer.zero_grad()\n",
    "\n",
    "    grad_poff = torch.zeros_like(poff_values)\n",
    "    grad_r = torch.zeros_like(r)\n",
    "    grad_g = torch.zeros_like(g)\n",
    "    total_loss = 0.0\n",
    "\n",
    "    for i in range(len(unique_data_lacUD5)):\n",
    "        dp, dr, dg, loss = RLOO_estimate(poff_values[i], r, g, mean_data_lacUD5[i])\n",
    "        grad_poff[i] = dp\n",
    "        grad_r += dr\n",
    "        grad_g += dg\n",
    "        total_loss += loss\n",
    "\n",
    "    grad_r /= len(unique_data_lacUD5)\n",
    "    grad_g /= len(unique_data_lacUD5)\n",
    "    total_loss /= len(unique_data_lacUD5)\n",
    "\n",
    "    poff_values.grad = grad_poff\n",
    "    r.grad = grad_r\n",
    "    g.grad = grad_g\n",
    "\n",
    "    torch.nn.utils.clip_grad_norm_([poff_values, r, g], max_norm=1.0)\n",
    "    optimizer.step()\n",
    "\n",
    "    # Clamp and sort as in original\n",
    "    with torch.no_grad():\n",
    "        r.clamp_(min=1.0)\n",
    "        g.clamp_(min=1.0, max=r.item())\n",
    "        poff_values.clamp_(min=0.01, max=0.98)\n",
    "        poff_values.copy_(torch.sort(poff_values).values)\n",
    "\n",
    "    # Save every iteration and print every 10\n",
    "    if iteration % 10 == 0:\n",
    "        print(f\"Epoch {iteration}: Loss = {total_loss.item():.4f}\")\n",
    "\n",
    "    if iteration %1 == 0:\n",
    "        write_to_file(filename2, iteration, r.item(), g.item(), r.item() / g.item(), total_loss.item())\n",
    "        write_to_file(filename1, poff_values.tolist(), total_loss.item())\n"
   ]
  },
  {
   "cell_type": "code",
   "execution_count": 131,
   "id": "377a7889-3991-4eee-a35e-ecaa43b9e8fa",
   "metadata": {},
   "outputs": [],
   "source": [
    "data = np.loadtxt(\"RLOO_main_lacUD5_100.txt\")\n",
    "row_index = np.argmin(data[:, -1])\n",
    "r_lacUD5 = data[row_index, 1]\n",
    "g_lacUD5 = data[row_index, 2]\n",
    "\n",
    "poff_values_lacUD5 = []\n",
    "with open(\"RLOO_poff_lacUD5_100.txt\", \"r\") as file:\n",
    "    for line in file:\n",
    "        list_str = line.rsplit(' ', 1)[0]\n",
    "        list_str = list_str.strip('[').strip(']')\n",
    "        str_values = list_str.split(',')\n",
    "        row = [float(value) for value in str_values]\n",
    "        poff_values_lacUD5.append(row)\n",
    "\n",
    "poff_values_lacUD5 = poff_values_lacUD5[row_index][:len(unique_data_lacUD5)]"
   ]
  },
  {
   "cell_type": "code",
   "execution_count": 133,
   "id": "a3f5078a-f27d-4943-9bef-87e69063f70f",
   "metadata": {},
   "outputs": [],
   "source": [
    "# Find the row index with minimum loss value. \n",
    "data_dga=np.loadtxt(\"learning_science_lacUD5_500.txt\")\n",
    "row_index_dga = np.argmin(data_dga[:, -1])\n",
    "r_dga_lacUD5=data_dga[row_index_dga,1]\n",
    "g_dga_lacUD5=data_dga[row_index_dga, 2]\n",
    "\n",
    "# Path to poff_values\n",
    "file_path_dga = 'learning_science_lacUD5_poff_500.txt'\n",
    "\n",
    "# Initialize an empty list to store rows\n",
    "poff_values_dga = []\n",
    "\n",
    "with open(file_path_dga, 'r') as file:\n",
    "    for line in file:\n",
    "        # Remove the trailing number by splitting at the last space and taking the first part\n",
    "        list_str = line.rsplit(' ', 1)[0]\n",
    "        # Remove surrounding brackets\n",
    "        list_str = list_str.strip('[').strip(']')\n",
    "        # Split the remaining string by commas to form a list of strings\n",
    "        str_values = list_str.split(',')\n",
    "        # Convert strings to floats\n",
    "        row = [float(value) for value in str_values]\n",
    "        # Append the row to our data list\n",
    "        poff_values_dga.append(row)\n",
    "  \n",
    "poff_values_dga = poff_values_dga[row_index_dga][:len(unique_data_lacUD5)] "
   ]
  },
  {
   "cell_type": "markdown",
   "id": "0f4d22c1-4be4-46b9-8e0b-3d1f8b43a28a",
   "metadata": {},
   "source": [
    "## Mean vs Fano Factor"
   ]
  },
  {
   "cell_type": "markdown",
   "id": "21ca95ad-eda3-4dd9-8e75-f8fd34977f19",
   "metadata": {},
   "source": [
    "### RLOO"
   ]
  },
  {
   "cell_type": "code",
   "execution_count": 137,
   "id": "ff9cf71a-fc25-4e5a-a1ef-827d2e0dc5b8",
   "metadata": {},
   "outputs": [],
   "source": [
    "#simulation data\n",
    "r_best = r_lacUD5\n",
    "g_best = g_lacUD5\n",
    "\n",
    "poff_range = torch.linspace(0.003, 0.97, 500)\n",
    "\n",
    "k_off = 1\n",
    "\n",
    "mean_expression = []\n",
    "fano_factors = []\n",
    "for i in poff_range:\n",
    "    k_on = (1.0 - i) / i\n",
    "    m = k_off/(k_on + k_off) * r_best/g_best\n",
    "    mean_expression.append(m)\n",
    "    f = 1 + (k_on/(k_on + k_off)) * (r_best / (k_on + k_off+g_best))\n",
    "    fano_factors.append(f)\n",
    "\n",
    "#convert to numpy \n",
    "mean_expression = torch.tensor(mean_expression).detach().numpy()\n",
    "fano_factors = torch.tensor(fano_factors).detach().numpy()"
   ]
  },
  {
   "cell_type": "markdown",
   "id": "3f982de5-d21f-4e95-9ce4-43379cdbc19f",
   "metadata": {},
   "source": [
    "### DGA"
   ]
  },
  {
   "cell_type": "code",
   "execution_count": 140,
   "id": "75669995-dec2-4364-82f7-611835fbe41f",
   "metadata": {},
   "outputs": [],
   "source": [
    "#simulation data\n",
    "poff_range_dga = torch.linspace(0.003, 0.97, 500)\n",
    "k_off = 1\n",
    "\n",
    "mean_expression_dga = []\n",
    "fano_factors_dga = []\n",
    "for i in poff_range_dga:\n",
    "    k_on = (1.0 - i) / i\n",
    "    m = k_off/(k_on + k_off) * r_dga_lacUD5/g_dga_lacUD5\n",
    "    mean_expression_dga.append(m)\n",
    "    f = 1 + (k_on/(k_on + k_off)) * (r_dga_lacUD5 / (k_on + k_off+g_dga_lacUD5))\n",
    "    fano_factors_dga.append(f)\n"
   ]
  },
  {
   "cell_type": "markdown",
   "id": "b55099e4-4187-4f30-9588-b3efe2136a73",
   "metadata": {},
   "source": [
    "### Experimental Data"
   ]
  },
  {
   "cell_type": "code",
   "execution_count": 143,
   "id": "fb270b74-070f-41ef-adb3-7af1e89087de",
   "metadata": {},
   "outputs": [],
   "source": [
    "#experimental data\n",
    "fano_factor_exp = var_data_lacUD5 / mean_data_lacUD5\n",
    "\n",
    "# Calculate standard error for plotting (optional, adjust as needed)\n",
    "std_mRNA = np.sqrt(mean_data_lacUD5)/np.sqrt(17)  # or from your data\n",
    "std_fano = np.sqrt(fano_factor_exp)/np.sqrt(17)  # or from variance propagation"
   ]
  },
  {
   "cell_type": "markdown",
   "id": "76fe126f-2d90-4a1a-a528-6a4483cd5e18",
   "metadata": {},
   "source": [
    "## Plot Graph"
   ]
  },
  {
   "cell_type": "code",
   "execution_count": 146,
   "id": "be5616b4-f7ff-47c3-aeda-d829336b7d42",
   "metadata": {},
   "outputs": [
    {
     "data": {
      "image/png": "[encoded data removed]",
      "text/plain": [
       "<Figure size 1000x600 with 1 Axes>"
      ]
     },
     "metadata": {},
     "output_type": "display_data"
    }
   ],
   "source": [
    "# Plot\n",
    "plt.figure(figsize=(10, 6))\n",
    "plt.plot(mean_expression_dga, fano_factors_dga, label=\"Prediction DGA\", linewidth=2, color =\"violet\")\n",
    "plt.plot(mean_expression, fano_factors, label=\"Prediction RLOO\", linewidth=2, color =\"navy\")\n",
    "plt.errorbar(mean_data_lacUD5, fano_factor_exp, yerr=std_fano, fmt='s', color='red', ecolor='red', capsize=3, label = \"Experimental Data\")\n",
    "plt.xlabel(\"Mean mRNA\", fontsize = 16)\n",
    "plt.ylabel(\"Fano Factor\", fontsize = 16)\n",
    "plt.xscale('log')\n",
    "plt.legend(fontsize = 12, loc = \"upper left\")\n",
    "plt.xticks(fontsize=15)\n",
    "plt.yticks(fontsize=15)\n",
    "plt.grid(True)\n",
    "plt.savefig(\"RLOO_lacUD5.png\", dpi=150)\n",
    "plt.show()"
   ]
  },
  {
   "cell_type": "markdown",
   "id": "ea0b6c65-54d2-49c8-a246-cfbf35acfa8f",
   "metadata": {},
   "source": [
    "# Standard Deviation of gamma and r"
   ]
  },
  {
   "cell_type": "code",
   "execution_count": 161,
   "id": "f0639797-64a3-4d5a-92c6-00d8af0ca44c",
   "metadata": {},
   "outputs": [],
   "source": [
    "# Set random seed for reproducibility\n",
    "torch.manual_seed(42)\n",
    "\n",
    "# Define simulation hyperparameters\n",
    "num_simulations = 200\n",
    "sim_time = 0.2\n",
    "\n",
    "def std_r(r, g, poff_values, RLOO_estimate, mean_data, unique_data, device='cpu', num_points=50, num_points2=50):\n",
    "    loss_list = []\n",
    "\n",
    "    # Generate a range of r values around the current value\n",
    "    r_list = np.linspace(r - 0.8 * r, 2 * r, num_points)\n",
    "\n",
    "    for r_value in r_list:\n",
    "        r_tensor = torch.tensor([r_value], dtype=torch.float32, device=device)\n",
    "        g_tensor = torch.tensor([g], dtype=torch.float32, device=device)\n",
    "        poff_tensor = torch.tensor(poff_values, dtype=torch.float32, device=device)\n",
    "\n",
    "        total_loss = 0.0\n",
    "\n",
    "        for i in range(len(unique_data)):\n",
    "            poff_i = poff_tensor[i].unsqueeze(0)\n",
    "            mean_i = mean_data[i]\n",
    "\n",
    "            _, _, _, loss = RLOO_estimate(poff_i, r_tensor, g_tensor, mean_i)\n",
    "            total_loss += loss.item()\n",
    "\n",
    "        avg_loss = total_loss / len(unique_data)\n",
    "        loss_list.append(avg_loss)\n",
    "\n",
    "    coeffs = np.polyfit(r_list, loss_list, deg=6)\n",
    "    poly_func = np.poly1d(coeffs)\n",
    "    second_derivative = np.polyder(poly_func, 2)\n",
    "\n",
    "    evaluation_points = np.linspace(r_list[0], r_list[-1], num_points2)\n",
    "    curvatures = [second_derivative(p) for p in evaluation_points]\n",
    "    average_curvature = np.mean(curvatures)\n",
    "\n",
    "    std_r_val = 1.0 / np.sqrt(abs(average_curvature))\n",
    "    return std_r_val\n",
    "\n",
    "\n",
    "def std_g(r, g, poff_values, RLOO_estimate, mean_data, unique_data, device='cpu', num_points=50, num_points2=50):\n",
    "    loss_list = []\n",
    "\n",
    "    g_list = np.linspace(g - 0.8 * g, 2 * g, num_points)\n",
    "\n",
    "    for g_value in g_list:\n",
    "        r_tensor = torch.tensor([r], dtype=torch.float32, device=device)\n",
    "        g_tensor = torch.tensor([g_value], dtype=torch.float32, device=device)\n",
    "        poff_tensor = torch.tensor(poff_values, dtype=torch.float32, device=device)\n",
    "\n",
    "        total_loss = 0.0\n",
    "\n",
    "        for i in range(len(unique_data)):\n",
    "            poff_i = poff_tensor[i].unsqueeze(0)\n",
    "            mean_i = mean_data[i]\n",
    "            _, _, _, loss = RLOO_estimate(poff_i, r_tensor, g_tensor, mean_i)\n",
    "            total_loss += loss.item()\n",
    "\n",
    "        avg_loss = total_loss / len(unique_data)\n",
    "        loss_list.append(avg_loss)\n",
    "\n",
    "    coeffs = np.polyfit(g_list, loss_list, deg=6)\n",
    "    poly_func = np.poly1d(coeffs)\n",
    "    second_derivative = np.polyder(poly_func, 2)\n",
    "\n",
    "    evaluation_points = np.linspace(g_list[0], g_list[-1], num_points2)\n",
    "    curvatures = [second_derivative(p) for p in evaluation_points]\n",
    "    average_curvature = np.mean(curvatures)\n",
    "\n",
    "    std_g_val = 1.0 / np.sqrt(abs(average_curvature))\n",
    "    return std_g_val"
   ]
  },
  {
   "cell_type": "code",
   "execution_count": 163,
   "id": "810fcf2b-3c34-4456-a518-59f3483978b4",
   "metadata": {},
   "outputs": [
    {
     "name": "stderr",
     "output_type": "stream",
     "text": [
      "/var/folders/l8/jw9zcbmd091129xbjrg49qbh0000gn/T/ipykernel_18178/1496171173.py:17: UserWarning: To copy construct from a tensor, it is recommended to use sourceTensor.clone().detach() or sourceTensor.clone().detach().requires_grad_(True), rather than torch.tensor(sourceTensor).\n",
      "  poff_tensor = torch.tensor(poff_values, dtype=torch.float32, device=device)\n",
      "/var/folders/l8/jw9zcbmd091129xbjrg49qbh0000gn/T/ipykernel_18178/1496171173.py:51: UserWarning: To copy construct from a tensor, it is recommended to use sourceTensor.clone().detach() or sourceTensor.clone().detach().requires_grad_(True), rather than torch.tensor(sourceTensor).\n",
      "  poff_tensor = torch.tensor(poff_values, dtype=torch.float32, device=device)\n"
     ]
    }
   ],
   "source": [
    "#values for 5DL1\n",
    "std_r_RLOO = std_r(r_best, g_best, poff_values, RLOO_estimate, mean_data, unique_data)\n",
    "std_g_RLOO = std_g(r_best, g_best, poff_values, RLOO_estimate, mean_data, unique_data)"
   ]
  },
  {
   "cell_type": "code",
   "execution_count": 164,
   "id": "a101e861-71f8-48e7-88ed-401f05db0461",
   "metadata": {},
   "outputs": [],
   "source": [
    "#values for lacUD5\n",
    "std_r_RLOO_lacUD5 = std_r(r_lacUD5, g_lacUD5, poff_values_lacUD5, RLOO_estimate, mean_data_lacUD5, unique_data_lacUD5)\n",
    "std_g_RLOO_lacUD5 = std_g(r_lacUD5, g_lacUD5, poff_values_lacUD5, RLOO_estimate, mean_data_lacUD5, unique_data_lacUD5)"
   ]
  },
  {
   "cell_type": "code",
   "execution_count": 171,
   "id": "e82e1d3a-dae1-4a07-8089-2c463b5e45e6",
   "metadata": {},
   "outputs": [],
   "source": [
    "# for  5DL1\n",
    "error_rloo = (r_best/g_best) * ((std_r_RLOO/r_best)**2 + (std_g_RLOO/g_best)**2)**0.5\n",
    "\n",
    "# for lacUD5\n",
    "error_rloo_lacUD5 = (r_lacUD5/g_lacUD5) * ((std_r_RLOO_lacUD5/r_lacUD5)**2 + (std_g_RLOO_lacUD5/g_lacUD5)**2)**0.5"
   ]
  },
  {
   "cell_type": "code",
   "execution_count": 173,
   "id": "981ad8a2-34d7-4db7-bf2e-19339690a10b",
   "metadata": {},
   "outputs": [
    {
     "name": "stdout",
     "output_type": "stream",
     "text": [
      "1.7814918891073566\n"
     ]
    }
   ],
   "source": [
    "print(error_rloo)"
   ]
  },
  {
   "cell_type": "code",
   "execution_count": 175,
   "id": "2145ac1c-2078-4db9-a152-29a937f3ea1b",
   "metadata": {},
   "outputs": [
    {
     "name": "stdout",
     "output_type": "stream",
     "text": [
      "1.7810254165954216\n"
     ]
    }
   ],
   "source": [
    "print(error_rloo_lacUD5)"
   ]
  },
  {
   "cell_type": "code",
   "execution_count": null,
   "id": "497cc2cc-9fb2-4eac-aa14-0fda03775c88",
   "metadata": {},
   "outputs": [],
   "source": []
  }
 ],
 "metadata": {
  "kernelspec": {
   "display_name": "Python [conda env:base] *",
   "language": "python",
   "name": "conda-base-py"
  },
  "language_info": {
   "codemirror_mode": {
    "name": "ipython",
    "version": 3
   },
   "file_extension": ".py",
   "mimetype": "text/x-python",
   "name": "python",
   "nbconvert_exporter": "python",
   "pygments_lexer": "ipython3",
   "version": "3.12.7"
  }
 },
 "nbformat": 4,
 "nbformat_minor": 5
}
