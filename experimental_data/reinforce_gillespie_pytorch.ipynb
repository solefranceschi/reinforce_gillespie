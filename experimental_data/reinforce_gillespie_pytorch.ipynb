{
 "cells": [
  {
   "cell_type": "code",
   "execution_count": 1,
   "id": "5ec31417-b0e9-48ba-8cab-914538de97e6",
   "metadata": {},
   "outputs": [],
   "source": [
    "import numpy as np\n",
    "import torch\n",
    "import torch.optim as optim\n",
    "import os\n",
    "import torch.nn as nn\n",
    "from tqdm import tqdm\n",
    "import matplotlib.pyplot as plt\n",
    "import random"
   ]
  },
  {
   "cell_type": "code",
   "execution_count": 2,
   "id": "d85cd3ae-c53e-4302-ba0c-35f082ad5997",
   "metadata": {},
   "outputs": [],
   "source": [
    "# Load the data from file for 5DL1 promoter \n",
    "data=np.load(\"science_data_5DL1.npy\")\n",
    "\n",
    "# Extract x and y data\n",
    "x_data = data[:, 0]\n",
    "y_data = data[:, 1]\n",
    "\n",
    "# Get unique x values and their corresponding indices\n",
    "unique_x, unique_indices = np.unique(x_data, return_index=True)\n",
    "\n",
    "# Extract unique y values based on unique indices\n",
    "unique_y = y_data[unique_indices]\n",
    "\n",
    "# Create unique data array with x and y values\n",
    "unique_data = np.column_stack((unique_x, unique_y))\n",
    "\n",
    "# Convert mean and variance data to torch tensors\n",
    "mean_data = torch.from_numpy(unique_data[:, 0]).double()\n",
    "var_data = mean_data * torch.from_numpy(unique_data[:, 1]).double()"
   ]
  },
  {
   "cell_type": "code",
   "execution_count": 5,
   "id": "0f2d5c06-e571-4542-ac64-cbcf0dab125d",
   "metadata": {},
   "outputs": [],
   "source": [
    "# Stoichiometric matrix defining the effect of each reaction on the system\n",
    "stoic_matrix = torch.tensor([[2.0, 0.0],    # Reaction 1: Promoter state goes from -1 to +1\n",
    "                             [0.0, 1.0],    # Reaction 2: mRNA is produced\n",
    "                             [-2.0, 0.0],   # Reaction 3: Promoter state goes from +1 to -1\n",
    "                             [0.0, -1.0]])  # Reaction 4: Degradation of mRNA\n",
    "\n",
    "device = 'cpu'\n",
    "\n",
    "def propensities(levels, poff, r, g):\n",
    "    promoter, mRNA = levels\n",
    "    k_on = (1.0 - poff) / poff\n",
    "\n",
    "    # Use `.float()` and ensure all terms are 0-dim tensors\n",
    "    a1 = (k_on * (promoter == -1).float()).reshape(())\n",
    "    a2 = (r * (promoter == -1).float()).reshape(())\n",
    "    a3 = (1.0 * (promoter == +1).float()).reshape(())\n",
    "    a4 = (g * mRNA).reshape(())\n",
    "\n",
    "    return torch.stack([a1, a2, a3, a4])\n",
    "\n",
    "def run_trajectories(poff, r, g, num_simulations):\n",
    "    all_trajectories = []\n",
    "    final_states = []\n",
    "    \n",
    "    for _ in range(num_simulations):\n",
    "        levels = torch.tensor([-1.0, 0.0], device=device)\n",
    "        t = 0.0\n",
    "        trajectory = []\n",
    "\n",
    "        while t < sim_time:\n",
    "            a = torch.relu(propensities(levels, poff, r, g))\n",
    "            a0 = a.sum()\n",
    "\n",
    "            if a0.item() <= 1e-8:\n",
    "                break\n",
    "\n",
    "            tau = -torch.log(torch.rand(1, device=device)) / a0\n",
    "            probs = a / a0\n",
    "            j = torch.multinomial(probs, 1).item()\n",
    "\n",
    "            trajectory.append((levels.clone(), j, tau.item()))\n",
    "            levels = levels + stoic_matrix[j]\n",
    "            levels[1] = torch.relu(levels[1])\n",
    "            t += tau.item()\n",
    "\n",
    "        all_trajectories.append(trajectory)\n",
    "        final_states.append(levels[1])\n",
    "\n",
    "    final_states = torch.stack(final_states)\n",
    "    mean_mRNA = final_states.mean()\n",
    "    variance = final_states.var(unbiased=False)\n",
    "\n",
    "    return all_trajectories, mean_mRNA, variance\n",
    "\n",
    "        \n",
    "def reinforce_estimate(poff, r, g, mean_data, var_data, num_simulations):\n",
    "    total_grad_poff = 0.0\n",
    "    total_grad_r = 0.0\n",
    "    total_grad_g = 0.0\n",
    "\n",
    "    # Sample trajectories once\n",
    "    all_trajectories, mean_mRNA, variance = run_trajectories(poff, r, g, num_simulations)\n",
    "\n",
    "    # Reward based on both mean and variance\n",
    "    loss = (mean_mRNA - mean_data) ** 2 + (torch.sqrt(variance) - torch.sqrt(var_data)) ** 2\n",
    "\n",
    "    # Pick one trajectory (e.g. the first one) for REINFORCE\n",
    "    trajectory = all_trajectories[0]\n",
    "\n",
    "    eps = 1e-8\n",
    "    log_grad = 0.0\n",
    "\n",
    "    poff_, r_, g_ = poff.clone().detach().requires_grad_(), r.clone().detach().requires_grad_(), g.clone().detach().requires_grad_()\n",
    "\n",
    "    for (x_prev, j, tau) in trajectory:\n",
    "        a = torch.relu(propensities(x_prev, poff_, r_, g_))\n",
    "        a0 = a.sum()\n",
    "        aj = a[j]\n",
    "\n",
    "        d_aj = torch.autograd.grad(aj, (poff_, r_, g_), retain_graph=True, allow_unused=True)\n",
    "        d_a0 = torch.autograd.grad(a0, (poff_, r_, g_), retain_graph=True, allow_unused=True)\n",
    "\n",
    "        d_aj = [g if g is not None else torch.tensor(0.0, device=poff.device) for g in d_aj]\n",
    "        d_a0 = [g if g is not None else torch.tensor(0.0, device=poff.device) for g in d_a0]\n",
    "\n",
    "        aj_safe = aj if aj.abs() > eps else eps\n",
    "        log_grad_step = [daj_i / aj_safe - tau * da0_i for daj_i, da0_i in zip(d_aj, d_a0)]\n",
    "\n",
    "        log_grad = [sum(x) for x in zip(log_grad, log_grad_step)] if isinstance(log_grad, list) else log_grad_step\n",
    "\n",
    "    # Scale log grad by reward (loss)\n",
    "    reinforce_grad = [grad_i * loss for grad_i in log_grad]\n",
    "\n",
    "    return reinforce_grad[0], reinforce_grad[1], reinforce_grad[2], loss\n",
    "\n",
    "\n",
    "# Define a function to write data to a file\n",
    "def write_to_file(filename, *args):\n",
    "    with open(filename, 'a') as file:\n",
    "        file.write(' '.join(map(str, args)) + '\\n')"
   ]
  },
  {
   "cell_type": "markdown",
   "id": "a8167a19-441d-4724-8b71-bb5265b70f7d",
   "metadata": {},
   "source": [
    "# Add baseline to reinforce "
   ]
  },
  {
   "cell_type": "code",
   "execution_count": 8,
   "id": "9e2bafaa-ff32-4964-bc1e-12357fdc799b",
   "metadata": {},
   "outputs": [],
   "source": [
    "def reinforce_estimate_baseline(poff, r, g, mean_data, var_data, num_simulations):\n",
    "    total_grad_poff = 0.0\n",
    "    total_grad_r = 0.0\n",
    "    total_grad_g = 0.0\n",
    "\n",
    "    # Sample trajectories once\n",
    "    all_trajectories, mean_mRNA, variance = run_trajectories(poff, r, g, num_simulations)\n",
    "\n",
    "    # Reward based on both mean and variance\n",
    "    loss = (mean_mRNA - mean_data) ** 2 + (torch.sqrt(variance) - torch.sqrt(var_data)) ** 2\n",
    "\n",
    "    # Pick one trajectory (e.g. the first one) for REINFORCE\n",
    "    trajectory = all_trajectories[0]\n",
    "\n",
    "    #estimate the baseline\n",
    "    baseline_losses = []\n",
    "    for i in range(10):\n",
    "        torch.manual_seed(42 + i)\n",
    "        _, mean_mRNA, variance = run_trajectories(poff, r, g, 50)\n",
    "        baseline_loss = (mean_mRNA - mean_data) **2 + (torch.sqrt(variance) - torch.sqrt(var_data))**2\n",
    "        baseline_losses.append(baseline_loss)\n",
    "    baseline = torch.mean(torch.stack(baseline_losses))\n",
    "\n",
    "    advantage = loss - baseline\n",
    "\n",
    "    eps = 1e-8\n",
    "    log_grad = 0.0\n",
    "\n",
    "    poff_, r_, g_ = poff.clone().detach().requires_grad_(), r.clone().detach().requires_grad_(), g.clone().detach().requires_grad_()\n",
    "\n",
    "    for (x_prev, j, tau) in trajectory:\n",
    "        a = torch.relu(propensities(x_prev, poff_, r_, g_))\n",
    "        a0 = a.sum()\n",
    "        aj = a[j]\n",
    "\n",
    "        d_aj = torch.autograd.grad(aj, (poff_, r_, g_), retain_graph=True, allow_unused=True)\n",
    "        d_a0 = torch.autograd.grad(a0, (poff_, r_, g_), retain_graph=True, allow_unused=True)\n",
    "\n",
    "        d_aj = [g if g is not None else torch.tensor(0.0, device=poff.device) for g in d_aj]\n",
    "        d_a0 = [g if g is not None else torch.tensor(0.0, device=poff.device) for g in d_a0]\n",
    "\n",
    "        aj_safe = aj if aj.abs() > eps else eps\n",
    "        log_grad_step = [daj_i / aj_safe - tau * da0_i for daj_i, da0_i in zip(d_aj, d_a0)]\n",
    "\n",
    "        log_grad = [sum(x) for x in zip(log_grad, log_grad_step)] if isinstance(log_grad, list) else log_grad_step\n",
    "\n",
    "    # Scale log grad by reward (loss) - multiply by advantage instead of raw loss\n",
    "    reinforce_grad = [grad_i * advantage for grad_i in log_grad]\n",
    "\n",
    "    return reinforce_grad[0], reinforce_grad[1], reinforce_grad[2], loss"
   ]
  },
  {
   "cell_type": "markdown",
   "id": "0f5841db-dba9-4274-b4da-8774d93957a2",
   "metadata": {},
   "source": [
    "## Adam optimizer "
   ]
  },
  {
   "cell_type": "code",
   "execution_count": 86,
   "id": "39e9ff5b-5f61-448f-b46a-0a50813e3f35",
   "metadata": {},
   "outputs": [
    {
     "name": "stderr",
     "output_type": "stream",
     "text": [
      "  0%|                                         | 1/500 [00:11<1:36:28, 11.60s/it]"
     ]
    },
    {
     "name": "stdout",
     "output_type": "stream",
     "text": [
      "Epoch 0: Loss = 27.5734\n"
     ]
    },
    {
     "name": "stderr",
     "output_type": "stream",
     "text": [
      "  2%|▉                                       | 11/500 [02:00<1:24:02, 10.31s/it]"
     ]
    },
    {
     "name": "stdout",
     "output_type": "stream",
     "text": [
      "Epoch 10: Loss = 19.4080\n"
     ]
    },
    {
     "name": "stderr",
     "output_type": "stream",
     "text": [
      "  4%|█▋                                      | 21/500 [03:29<1:09:21,  8.69s/it]"
     ]
    },
    {
     "name": "stdout",
     "output_type": "stream",
     "text": [
      "Epoch 20: Loss = 10.0494\n"
     ]
    },
    {
     "name": "stderr",
     "output_type": "stream",
     "text": [
      "  6%|██▍                                     | 31/500 [05:00<1:12:07,  9.23s/it]"
     ]
    },
    {
     "name": "stdout",
     "output_type": "stream",
     "text": [
      "Epoch 30: Loss = 15.3476\n"
     ]
    },
    {
     "name": "stderr",
     "output_type": "stream",
     "text": [
      "  8%|███▎                                    | 41/500 [06:36<1:14:14,  9.70s/it]"
     ]
    },
    {
     "name": "stdout",
     "output_type": "stream",
     "text": [
      "Epoch 40: Loss = 18.7291\n"
     ]
    },
    {
     "name": "stderr",
     "output_type": "stream",
     "text": [
      " 10%|████                                    | 51/500 [08:16<1:14:47,  9.99s/it]"
     ]
    },
    {
     "name": "stdout",
     "output_type": "stream",
     "text": [
      "Epoch 50: Loss = 18.2319\n"
     ]
    },
    {
     "name": "stderr",
     "output_type": "stream",
     "text": [
      " 12%|████▉                                   | 61/500 [09:55<1:11:42,  9.80s/it]"
     ]
    },
    {
     "name": "stdout",
     "output_type": "stream",
     "text": [
      "Epoch 60: Loss = 17.8145\n"
     ]
    },
    {
     "name": "stderr",
     "output_type": "stream",
     "text": [
      " 14%|█████▋                                  | 71/500 [11:28<1:05:24,  9.15s/it]"
     ]
    },
    {
     "name": "stdout",
     "output_type": "stream",
     "text": [
      "Epoch 70: Loss = 12.8116\n"
     ]
    },
    {
     "name": "stderr",
     "output_type": "stream",
     "text": [
      " 16%|██████▊                                   | 81/500 [12:55<59:35,  8.53s/it]"
     ]
    },
    {
     "name": "stdout",
     "output_type": "stream",
     "text": [
      "Epoch 80: Loss = 10.9452\n"
     ]
    },
    {
     "name": "stderr",
     "output_type": "stream",
     "text": [
      " 18%|███████▋                                  | 91/500 [14:16<55:17,  8.11s/it]"
     ]
    },
    {
     "name": "stdout",
     "output_type": "stream",
     "text": [
      "Epoch 90: Loss = 10.0053\n"
     ]
    },
    {
     "name": "stderr",
     "output_type": "stream",
     "text": [
      " 20%|████████▎                                | 101/500 [15:34<51:58,  7.82s/it]"
     ]
    },
    {
     "name": "stdout",
     "output_type": "stream",
     "text": [
      "Epoch 100: Loss = 10.5959\n"
     ]
    },
    {
     "name": "stderr",
     "output_type": "stream",
     "text": [
      " 22%|█████████                                | 111/500 [16:56<53:29,  8.25s/it]"
     ]
    },
    {
     "name": "stdout",
     "output_type": "stream",
     "text": [
      "Epoch 110: Loss = 13.4292\n"
     ]
    },
    {
     "name": "stderr",
     "output_type": "stream",
     "text": [
      " 24%|█████████▉                               | 121/500 [18:25<58:06,  9.20s/it]"
     ]
    },
    {
     "name": "stdout",
     "output_type": "stream",
     "text": [
      "Epoch 120: Loss = 13.4393\n"
     ]
    },
    {
     "name": "stderr",
     "output_type": "stream",
     "text": [
      " 26%|██████████▋                              | 131/500 [19:58<57:35,  9.37s/it]"
     ]
    },
    {
     "name": "stdout",
     "output_type": "stream",
     "text": [
      "Epoch 130: Loss = 13.6667\n"
     ]
    },
    {
     "name": "stderr",
     "output_type": "stream",
     "text": [
      " 28%|██████████▉                            | 141/500 [21:47<1:07:23, 11.26s/it]"
     ]
    },
    {
     "name": "stdout",
     "output_type": "stream",
     "text": [
      "Epoch 140: Loss = 30.5182\n"
     ]
    },
    {
     "name": "stderr",
     "output_type": "stream",
     "text": [
      " 30%|███████████▊                           | 151/500 [23:44<1:08:01, 11.69s/it]"
     ]
    },
    {
     "name": "stdout",
     "output_type": "stream",
     "text": [
      "Epoch 150: Loss = 33.6559\n"
     ]
    },
    {
     "name": "stderr",
     "output_type": "stream",
     "text": [
      " 32%|████████████▌                          | 161/500 [25:42<1:06:27, 11.76s/it]"
     ]
    },
    {
     "name": "stdout",
     "output_type": "stream",
     "text": [
      "Epoch 160: Loss = 36.1004\n"
     ]
    },
    {
     "name": "stderr",
     "output_type": "stream",
     "text": [
      " 34%|█████████████▎                         | 171/500 [27:40<1:04:32, 11.77s/it]"
     ]
    },
    {
     "name": "stdout",
     "output_type": "stream",
     "text": [
      "Epoch 170: Loss = 33.2456\n"
     ]
    },
    {
     "name": "stderr",
     "output_type": "stream",
     "text": [
      " 36%|██████████████                         | 181/500 [29:37<1:02:06, 11.68s/it]"
     ]
    },
    {
     "name": "stdout",
     "output_type": "stream",
     "text": [
      "Epoch 180: Loss = 34.2876\n"
     ]
    },
    {
     "name": "stderr",
     "output_type": "stream",
     "text": [
      " 38%|███████████████▋                         | 191/500 [31:28<55:59, 10.87s/it]"
     ]
    },
    {
     "name": "stdout",
     "output_type": "stream",
     "text": [
      "Epoch 190: Loss = 24.5556\n"
     ]
    },
    {
     "name": "stderr",
     "output_type": "stream",
     "text": [
      " 40%|████████████████▍                        | 201/500 [33:06<47:06,  9.45s/it]"
     ]
    },
    {
     "name": "stdout",
     "output_type": "stream",
     "text": [
      "Epoch 200: Loss = 16.0119\n"
     ]
    },
    {
     "name": "stderr",
     "output_type": "stream",
     "text": [
      " 42%|█████████████████▎                       | 211/500 [34:36<43:03,  8.94s/it]"
     ]
    },
    {
     "name": "stdout",
     "output_type": "stream",
     "text": [
      "Epoch 210: Loss = 13.8061\n"
     ]
    },
    {
     "name": "stderr",
     "output_type": "stream",
     "text": [
      " 44%|██████████████████                       | 221/500 [35:59<37:39,  8.10s/it]"
     ]
    },
    {
     "name": "stdout",
     "output_type": "stream",
     "text": [
      "Epoch 220: Loss = 8.3923\n"
     ]
    },
    {
     "name": "stderr",
     "output_type": "stream",
     "text": [
      " 46%|██████████████████▉                      | 231/500 [37:17<34:22,  7.67s/it]"
     ]
    },
    {
     "name": "stdout",
     "output_type": "stream",
     "text": [
      "Epoch 230: Loss = 6.6859\n"
     ]
    },
    {
     "name": "stderr",
     "output_type": "stream",
     "text": [
      " 48%|███████████████████▊                     | 241/500 [38:24<27:09,  6.29s/it]"
     ]
    },
    {
     "name": "stdout",
     "output_type": "stream",
     "text": [
      "Epoch 240: Loss = 3.3823\n"
     ]
    },
    {
     "name": "stderr",
     "output_type": "stream",
     "text": [
      " 50%|████████████████████▌                    | 251/500 [39:19<23:22,  5.63s/it]"
     ]
    },
    {
     "name": "stdout",
     "output_type": "stream",
     "text": [
      "Epoch 250: Loss = 3.7505\n"
     ]
    },
    {
     "name": "stderr",
     "output_type": "stream",
     "text": [
      " 52%|█████████████████████▍                   | 261/500 [40:24<26:03,  6.54s/it]"
     ]
    },
    {
     "name": "stdout",
     "output_type": "stream",
     "text": [
      "Epoch 260: Loss = 3.2711\n"
     ]
    },
    {
     "name": "stderr",
     "output_type": "stream",
     "text": [
      " 54%|██████████████████████▏                  | 271/500 [41:26<22:36,  5.92s/it]"
     ]
    },
    {
     "name": "stdout",
     "output_type": "stream",
     "text": [
      "Epoch 270: Loss = 0.9063\n"
     ]
    },
    {
     "name": "stderr",
     "output_type": "stream",
     "text": [
      " 56%|███████████████████████                  | 281/500 [42:24<22:09,  6.07s/it]"
     ]
    },
    {
     "name": "stdout",
     "output_type": "stream",
     "text": [
      "Epoch 280: Loss = 1.7271\n"
     ]
    },
    {
     "name": "stderr",
     "output_type": "stream",
     "text": [
      " 58%|███████████████████████▊                 | 291/500 [43:20<18:35,  5.34s/it]"
     ]
    },
    {
     "name": "stdout",
     "output_type": "stream",
     "text": [
      "Epoch 290: Loss = 5.0038\n"
     ]
    },
    {
     "name": "stderr",
     "output_type": "stream",
     "text": [
      " 60%|████████████████████████▋                | 301/500 [44:15<18:43,  5.64s/it]"
     ]
    },
    {
     "name": "stdout",
     "output_type": "stream",
     "text": [
      "Epoch 300: Loss = 3.9620\n"
     ]
    },
    {
     "name": "stderr",
     "output_type": "stream",
     "text": [
      " 62%|█████████████████████████▌               | 311/500 [45:19<21:39,  6.88s/it]"
     ]
    },
    {
     "name": "stdout",
     "output_type": "stream",
     "text": [
      "Epoch 310: Loss = 5.2482\n"
     ]
    },
    {
     "name": "stderr",
     "output_type": "stream",
     "text": [
      " 64%|██████████████████████████▎              | 321/500 [46:30<20:15,  6.79s/it]"
     ]
    },
    {
     "name": "stdout",
     "output_type": "stream",
     "text": [
      "Epoch 320: Loss = 3.6980\n"
     ]
    },
    {
     "name": "stderr",
     "output_type": "stream",
     "text": [
      " 66%|███████████████████████████▏             | 331/500 [47:33<17:57,  6.37s/it]"
     ]
    },
    {
     "name": "stdout",
     "output_type": "stream",
     "text": [
      "Epoch 330: Loss = 2.3523\n"
     ]
    },
    {
     "name": "stderr",
     "output_type": "stream",
     "text": [
      " 68%|███████████████████████████▉             | 341/500 [48:43<18:49,  7.10s/it]"
     ]
    },
    {
     "name": "stdout",
     "output_type": "stream",
     "text": [
      "Epoch 340: Loss = 3.6041\n"
     ]
    },
    {
     "name": "stderr",
     "output_type": "stream",
     "text": [
      " 70%|████████████████████████████▊            | 351/500 [49:57<18:24,  7.41s/it]"
     ]
    },
    {
     "name": "stdout",
     "output_type": "stream",
     "text": [
      "Epoch 350: Loss = 7.0361\n"
     ]
    },
    {
     "name": "stderr",
     "output_type": "stream",
     "text": [
      " 72%|█████████████████████████████▌           | 361/500 [51:12<17:34,  7.59s/it]"
     ]
    },
    {
     "name": "stdout",
     "output_type": "stream",
     "text": [
      "Epoch 360: Loss = 6.8498\n"
     ]
    },
    {
     "name": "stderr",
     "output_type": "stream",
     "text": [
      " 74%|██████████████████████████████▍          | 371/500 [52:23<15:09,  7.05s/it]"
     ]
    },
    {
     "name": "stdout",
     "output_type": "stream",
     "text": [
      "Epoch 370: Loss = 4.5449\n"
     ]
    },
    {
     "name": "stderr",
     "output_type": "stream",
     "text": [
      " 76%|███████████████████████████████▏         | 381/500 [53:34<13:58,  7.05s/it]"
     ]
    },
    {
     "name": "stdout",
     "output_type": "stream",
     "text": [
      "Epoch 380: Loss = 5.8746\n"
     ]
    },
    {
     "name": "stderr",
     "output_type": "stream",
     "text": [
      " 78%|████████████████████████████████         | 391/500 [54:41<12:08,  6.69s/it]"
     ]
    },
    {
     "name": "stdout",
     "output_type": "stream",
     "text": [
      "Epoch 390: Loss = 3.1966\n"
     ]
    },
    {
     "name": "stderr",
     "output_type": "stream",
     "text": [
      " 80%|████████████████████████████████▉        | 401/500 [55:53<12:24,  7.52s/it]"
     ]
    },
    {
     "name": "stdout",
     "output_type": "stream",
     "text": [
      "Epoch 400: Loss = 6.0152\n"
     ]
    },
    {
     "name": "stderr",
     "output_type": "stream",
     "text": [
      " 82%|█████████████████████████████████▋       | 411/500 [57:13<11:41,  7.88s/it]"
     ]
    },
    {
     "name": "stdout",
     "output_type": "stream",
     "text": [
      "Epoch 410: Loss = 6.6824\n"
     ]
    },
    {
     "name": "stderr",
     "output_type": "stream",
     "text": [
      " 84%|██████████████████████████████████▌      | 421/500 [58:40<11:52,  9.02s/it]"
     ]
    },
    {
     "name": "stdout",
     "output_type": "stream",
     "text": [
      "Epoch 420: Loss = 16.1868\n"
     ]
    },
    {
     "name": "stderr",
     "output_type": "stream",
     "text": [
      " 86%|█████████████████████████████████▌     | 431/500 [1:00:14<10:47,  9.38s/it]"
     ]
    },
    {
     "name": "stdout",
     "output_type": "stream",
     "text": [
      "Epoch 430: Loss = 18.1487\n"
     ]
    },
    {
     "name": "stderr",
     "output_type": "stream",
     "text": [
      " 88%|██████████████████████████████████▍    | 441/500 [1:01:51<09:41,  9.85s/it]"
     ]
    },
    {
     "name": "stdout",
     "output_type": "stream",
     "text": [
      "Epoch 440: Loss = 24.0596\n"
     ]
    },
    {
     "name": "stderr",
     "output_type": "stream",
     "text": [
      " 90%|███████████████████████████████████▏   | 451/500 [1:03:33<08:16, 10.14s/it]"
     ]
    },
    {
     "name": "stdout",
     "output_type": "stream",
     "text": [
      "Epoch 450: Loss = 23.2977\n"
     ]
    },
    {
     "name": "stderr",
     "output_type": "stream",
     "text": [
      " 92%|███████████████████████████████████▉   | 461/500 [1:05:12<06:24,  9.85s/it]"
     ]
    },
    {
     "name": "stdout",
     "output_type": "stream",
     "text": [
      "Epoch 460: Loss = 19.8424\n"
     ]
    },
    {
     "name": "stderr",
     "output_type": "stream",
     "text": [
      " 94%|████████████████████████████████████▋  | 471/500 [1:06:52<04:51, 10.07s/it]"
     ]
    },
    {
     "name": "stdout",
     "output_type": "stream",
     "text": [
      "Epoch 470: Loss = 22.5697\n"
     ]
    },
    {
     "name": "stderr",
     "output_type": "stream",
     "text": [
      " 96%|█████████████████████████████████████▌ | 481/500 [1:08:35<03:16, 10.36s/it]"
     ]
    },
    {
     "name": "stdout",
     "output_type": "stream",
     "text": [
      "Epoch 480: Loss = 22.0834\n"
     ]
    },
    {
     "name": "stderr",
     "output_type": "stream",
     "text": [
      " 98%|██████████████████████████████████████▎| 491/500 [1:10:16<01:29,  9.91s/it]"
     ]
    },
    {
     "name": "stdout",
     "output_type": "stream",
     "text": [
      "Epoch 490: Loss = 15.7264\n"
     ]
    },
    {
     "name": "stderr",
     "output_type": "stream",
     "text": [
      "100%|███████████████████████████████████████| 500/500 [1:11:44<00:00,  8.61s/it]\n"
     ]
    }
   ],
   "source": [
    "#parameters\n",
    "# Set seed for reproducibility \n",
    "torch.manual_seed(42)\n",
    "\n",
    "# Define simulation hyperparameters\n",
    "num_iterations = 500\n",
    "num_simulations = 500\n",
    "sim_time = 0.2\n",
    "\n",
    "poff_values = torch.nn.Parameter(torch.linspace(0.03, 0.97, len(unique_data)))\n",
    "r = torch.nn.Parameter((1e+2) * torch.rand(1))\n",
    "g = torch.nn.Parameter((1e+1) * torch.rand(1))\n",
    "optimizer = optim.Adam([poff_values, r, g], lr = 0.1)\n",
    "\n",
    "#save to file\n",
    "filename1 = \"reinforce_poff_500.txt\"\n",
    "filename2 = \"reinforce_main_500.txt\"\n",
    "#filename1 = \"reinforce_poff_baseline_2502.txt\"\n",
    "#filename2 = \"reinforce_main_baseline_2502.txt\"\n",
    "if os.path.exists(filename1):\n",
    "    os.remove(filename1)\n",
    "if os.path.exists(filename2):\n",
    "    os.remove(filename2)\n",
    "\n",
    "for iteration in tqdm(range(num_iterations)):\n",
    "    optimizer.zero_grad()\n",
    "\n",
    "    grad_poff = torch.zeros_like(poff_values)\n",
    "    #grad_r = 0.0\n",
    "    #grad_g = 0.0\n",
    "    grad_r = torch.zeros_like(r)\n",
    "    grad_g = torch.zeros_like(g)\n",
    "    total_loss = 0.0\n",
    "\n",
    "    for i in range(len(unique_data)):\n",
    "        dp, dr, dg, loss = reinforce_estimate(poff_values[i], r, g, mean_data[i], var_data[i], num_iterations)\n",
    "        grad_poff[i] = dp\n",
    "        grad_r += dr\n",
    "        grad_g += dg\n",
    "        total_loss += loss\n",
    "\n",
    "    grad_r /= len(unique_data)\n",
    "    grad_g /= len(unique_data)\n",
    "    total_loss /= len(unique_data)\n",
    "\n",
    "    poff_values.grad = grad_poff\n",
    "    r.grad = grad_r\n",
    "    g.grad = grad_g\n",
    "\n",
    "    torch.nn.utils.clip_grad_norm_([poff_values, r, g], max_norm=1.0)\n",
    "    optimizer.step()\n",
    "\n",
    "    # Clamp and sort as in original\n",
    "    with torch.no_grad():\n",
    "        r.data.clamp_(min=1.0)\n",
    "        g.data.clamp_(min=1.0, max=r.item())\n",
    "        poff_values.data.clamp_(min=0.01, max=0.98)\n",
    "        poff_values.data, _ = torch.sort(poff_values.data)\n",
    "\n",
    "    # Save every 10 iterations\n",
    "    if iteration % 10 == 0:\n",
    "        print(f\"Epoch {iteration}: Loss = {total_loss.item():.4f}\")\n",
    "        write_to_file(filename2, iteration, r.item(), g.item(), r.item() / g.item(), total_loss.item())\n",
    "        write_to_file(filename1, poff_values.tolist(), total_loss.item())\n"
   ]
  },
  {
   "cell_type": "markdown",
   "id": "fa68923e-b26e-4974-8df7-5fb5042f01df",
   "metadata": {},
   "source": [
    "### value extraction for REINFORCE"
   ]
  },
  {
   "cell_type": "code",
   "execution_count": 21,
   "id": "400cf17d-c908-4247-8aef-dabde826f890",
   "metadata": {},
   "outputs": [],
   "source": [
    "data = np.loadtxt(\"reinforce_main_500.txt\")\n",
    "row_index = np.argmin(data[:, -1])\n",
    "r_best = data[row_index, 1]\n",
    "g_best = data[row_index, 2]\n",
    "\n",
    "poff_values = []\n",
    "with open(\"reinforce_poff_500.txt\", \"r\") as file:\n",
    "    for line in file:\n",
    "        list_str = line.rsplit(' ', 1)[0]\n",
    "        list_str = list_str.strip('[').strip(']')\n",
    "        str_values = list_str.split(',')\n",
    "        row = [float(value) for value in str_values]\n",
    "        poff_values.append(row)\n",
    "\n",
    "poff_values = poff_values[row_index][:len(unique_data)]\n"
   ]
  },
  {
   "cell_type": "markdown",
   "id": "deb7cf48-8602-4bf5-ab18-26db6a9318d6",
   "metadata": {},
   "source": [
    "### value extraction after baseline"
   ]
  },
  {
   "cell_type": "code",
   "execution_count": 24,
   "id": "c77c1f16-11a1-4f05-a373-0c1300c55d8f",
   "metadata": {},
   "outputs": [],
   "source": [
    "data_b = np.loadtxt(\"reinforce_main_baseline_250.txt\")\n",
    "row_index_b = np.argmin(data_b[:, -1])\n",
    "r_b = data_b[row_index_b, 1]\n",
    "g_b = data_b[row_index_b, 2]\n",
    "\n",
    "poff_values_b = []\n",
    "with open(\"reinforce_poff_baseline_250.txt\", \"r\") as file:\n",
    "    for line in file:\n",
    "        list_str = line.rsplit(' ', 1)[0]\n",
    "        list_str = list_str.strip('[').strip(']')\n",
    "        str_values = list_str.split(',')\n",
    "        row = [float(value) for value in str_values]\n",
    "        poff_values_b.append(row)\n",
    "\n",
    "poff_values_b = poff_values_b[row_index_b][:len(unique_data)]"
   ]
  },
  {
   "cell_type": "markdown",
   "id": "f4ec37c9-840b-4379-9a4b-98e4d4f70bf0",
   "metadata": {},
   "source": [
    "# Checking Correctness of run_trajectories function"
   ]
  },
  {
   "cell_type": "code",
   "execution_count": 44,
   "id": "e2d473ff-b7a1-4edb-ba07-cd790aea7d2d",
   "metadata": {},
   "outputs": [
    {
     "data": {
      "image/png": "[encoded data removed]",
      "text/plain": [
       "<Figure size 800x500 with 1 Axes>"
      ]
     },
     "metadata": {},
     "output_type": "display_data"
    }
   ],
   "source": [
    "# Parameters (optimized parameters chosen from the paper)\n",
    "kon_check = 0.87\n",
    "r_check = torch.tensor(3.83, device=device)\n",
    "g_check = torch.tensor(2.43, device=device)\n",
    "poff_check = torch.tensor(1 / (1 + kon_check), device=device)\n",
    "\n",
    "# Settings\n",
    "num_samples = 1000\n",
    "sampled_j = []\n",
    "\n",
    "# Run only ONE Gillespie step many times (the inner loop of run_trajectories)\n",
    "for _ in range(num_samples):\n",
    "    # Initial state\n",
    "    levels = torch.tensor([-1.0, 0.0], device=device)  # promoter OFF, 0 mRNA\n",
    "\n",
    "    # Compute propensities\n",
    "    a = torch.relu(propensities(levels, poff_check, r_check, g_check)) \n",
    "    a0 = a.sum()\n",
    "    \n",
    "    if a0.item() <= 1e-8:\n",
    "        continue\n",
    "    \n",
    "    probs = a / a0\n",
    "\n",
    "    if not torch.all(torch.isfinite(probs)) or torch.any(probs < 0):\n",
    "        continue\n",
    "\n",
    "    # Sample reaction index j\n",
    "    j = torch.multinomial(probs, 1).item()\n",
    "    sampled_j.append(j)\n",
    "\n",
    "# Theoretical distribution\n",
    "p_theoretical = (a / a0).cpu().numpy()\n",
    "\n",
    "# Plot\n",
    "fig, ax = plt.subplots(figsize=(8, 5))\n",
    "\n",
    "# Sampled histogram\n",
    "ax.hist(sampled_j, bins=range(5), align='left', rwidth=0.6, alpha=0.6, label='Sampled histogram')\n",
    "\n",
    "# Theoretical p2(j|x,t)\n",
    "ax.bar(range(4), p_theoretical * len(sampled_j), width=0.4, color='orange', alpha=0.9, label='Theoretical $p_2(j|x,t)$')\n",
    "\n",
    "ax.set_xlabel(\"Reaction index j\", fontsize=16)\n",
    "ax.set_ylabel(\"Count\", fontsize = 16)\n",
    "#ax.set_title(\"Validation of run_trajectories (1-step only)\")\n",
    "ax.set_xticks(range(4))\n",
    "ax.tick_params(axis='both', which='major', labelsize=14)\n",
    "ax.tick_params(axis='both', which='minor', labelsize=10)\n",
    "ax.legend(fontsize=14)\n",
    "ax.grid(axis='y', linestyle='--', alpha=0.5)\n",
    "\n",
    "plt.tight_layout()\n",
    "plt.savefig(\"run_trajectories_check.png\", dpi=150)\n",
    "plt.show()\n",
    "\n",
    "\n"
   ]
  },
  {
   "cell_type": "markdown",
   "id": "51a86378-1d62-4153-9516-e06717cf5479",
   "metadata": {},
   "source": [
    "# Plots"
   ]
  },
  {
   "cell_type": "markdown",
   "id": "fc20922c-3088-4b5a-ab97-9a9cffabd98e",
   "metadata": {},
   "source": [
    "## Import all DGA data"
   ]
  },
  {
   "cell_type": "code",
   "execution_count": 36,
   "id": "016d5b5b-0028-4274-a6b5-d8a55ceff37f",
   "metadata": {},
   "outputs": [],
   "source": [
    "# Find the row index with minimum loss value. \n",
    "data_dga=np.loadtxt(\"learning_science_5DL1_250.txt\")\n",
    "row_index_dga = np.argmin(data_dga[:, -1])\n",
    "r_dga=data_dga[row_index_dga,1]\n",
    "g_dga=data_dga[row_index_dga, 2]\n",
    "\n",
    "# Path to poff_values\n",
    "file_path_dga = 'learning_science_5DL1_poff_250.txt'\n",
    "\n",
    "# Initialize an empty list to store rows\n",
    "poff_values_dga = []\n",
    "\n",
    "with open(file_path_dga, 'r') as file:\n",
    "    for line in file:\n",
    "        # Remove the trailing number by splitting at the last space and taking the first part\n",
    "        list_str = line.rsplit(' ', 1)[0]\n",
    "        # Remove surrounding brackets\n",
    "        list_str = list_str.strip('[').strip(']')\n",
    "        # Split the remaining string by commas to form a list of strings\n",
    "        str_values = list_str.split(',')\n",
    "        # Convert strings to floats\n",
    "        row = [float(value) for value in str_values]\n",
    "        # Append the row to our data list\n",
    "        poff_values_dga.append(row)\n",
    "  \n",
    "poff_values_dga = poff_values_dga[row_index_dga][:len(unique_data)] "
   ]
  },
  {
   "cell_type": "markdown",
   "id": "167cd2d3-4edc-419b-9d06-e944ef62c1a0",
   "metadata": {},
   "source": [
    "## Import RLOO Data"
   ]
  },
  {
   "cell_type": "code",
   "execution_count": 39,
   "id": "5925b830-1a3a-41c1-83ce-123e0f548d95",
   "metadata": {},
   "outputs": [],
   "source": [
    "data_rloo = np.loadtxt(\"RLOO_main_250.txt\")\n",
    "row_index = np.argmin(data_rloo[:, -1])\n",
    "r_rloo = data_rloo[row_index, 1]\n",
    "g_rloo = data_rloo[row_index, 2]\n",
    "\n",
    "poff_values_rloo = []\n",
    "with open(\"RLOO_poff_250.txt\", \"r\") as file:\n",
    "    for line in file:\n",
    "        list_str = line.rsplit(' ', 1)[0]\n",
    "        list_str = list_str.strip('[').strip(']')\n",
    "        str_values = list_str.split(',')\n",
    "        row = [float(value) for value in str_values]\n",
    "        poff_values_rloo.append(row)\n",
    "\n",
    "poff_values_rloo = poff_values_rloo[row_index][:len(unique_data)]"
   ]
  },
  {
   "cell_type": "markdown",
   "id": "2ffd1b5b-528d-4a23-808d-f7072a1abfc5",
   "metadata": {},
   "source": [
    "## 1. mean vs fano factor "
   ]
  },
  {
   "cell_type": "markdown",
   "id": "752f0c03-6275-43c8-b080-f645594699aa",
   "metadata": {},
   "source": [
    "Find the theoretical mean and fano factor by running the gillespie simulation with the values that have been found through the optimization. "
   ]
  },
  {
   "cell_type": "markdown",
   "id": "67939ac8-e0fc-432e-9950-b6cbd0e03639",
   "metadata": {},
   "source": [
    "plot experimental value, DGA prediction and reinforce prediction"
   ]
  },
  {
   "cell_type": "markdown",
   "id": "9112a937-2b51-400a-9f93-af555575c076",
   "metadata": {},
   "source": [
    "### REINFORCE"
   ]
  },
  {
   "cell_type": "code",
   "execution_count": 45,
   "id": "45602bfc-a56a-4212-9c35-bc92f1fd8be9",
   "metadata": {},
   "outputs": [],
   "source": [
    "#simulation data\n",
    "poff_range = torch.linspace(0.005, 0.97, 500)\n",
    "k_off = 1\n",
    "\n",
    "mean_expression = []\n",
    "fano_factors = []\n",
    "for i in poff_range:\n",
    "    k_on = (1.0 - i) / i\n",
    "    m = k_off/(k_on + k_off) * r_best/g_best\n",
    "    mean_expression.append(m)\n",
    "    f = 1 + (k_on/(k_on + k_off)) * (r_best / (k_on + k_off+g_best))\n",
    "    fano_factors.append(f)\n",
    "\n",
    "#convert to numpy \n",
    "mean_expression = torch.tensor(mean_expression).detach().numpy()\n",
    "fano_factors = torch.tensor(fano_factors).detach().numpy()"
   ]
  },
  {
   "cell_type": "markdown",
   "id": "40e175bc-98db-4175-91e7-228e43bec91d",
   "metadata": {},
   "source": [
    "### REINFORCE with Baseline"
   ]
  },
  {
   "cell_type": "code",
   "execution_count": 48,
   "id": "e3c39828-f091-47dc-a1a5-4d075fb6d246",
   "metadata": {},
   "outputs": [],
   "source": [
    "#with baseline\n",
    "poff_range_b = torch.linspace(0.005, 0.97, 500)\n",
    "k_off = 1\n",
    "\n",
    "mean_expression_b = []\n",
    "fano_factors_b = []\n",
    "for i in poff_range_b:\n",
    "    k_on = (1.0 - i) / i\n",
    "    m = k_off/(k_on + k_off) * r_b/g_b\n",
    "    mean_expression_b.append(m)\n",
    "    f = 1 + (k_on/(k_on + k_off)) * (r_b / (k_on + k_off+g_b))\n",
    "    fano_factors_b.append(f)\n",
    "\n",
    "#convert to numpy \n",
    "mean_expression_b = torch.tensor(mean_expression_b).detach().numpy()\n",
    "fano_factors_b = torch.tensor(fano_factors_b).detach().numpy()\n"
   ]
  },
  {
   "cell_type": "markdown",
   "id": "801ebe9f-0368-4838-8ab7-2aa3599664be",
   "metadata": {},
   "source": [
    "### Experimental Data"
   ]
  },
  {
   "cell_type": "code",
   "execution_count": 51,
   "id": "684bb473-5abd-462d-be65-894394e4853a",
   "metadata": {},
   "outputs": [],
   "source": [
    "#experimental data\n",
    "fano_factor_exp = var_data / mean_data\n",
    "\n",
    "# Calculate standard error for plotting (optional, adjust as needed)\n",
    "std_mRNA = np.sqrt(mean_data)/np.sqrt(17)  # or from your data\n",
    "std_fano = np.sqrt(fano_factor_exp)/np.sqrt(17)  # or from variance propagation"
   ]
  },
  {
   "cell_type": "markdown",
   "id": "54a07ec0-7841-4f34-9ab8-1edf895dfdc6",
   "metadata": {},
   "source": [
    "### DGA data"
   ]
  },
  {
   "cell_type": "code",
   "execution_count": 54,
   "id": "f566edf6-ab45-42d4-a5e1-f5fad58b6e96",
   "metadata": {},
   "outputs": [],
   "source": [
    "#simulation data\n",
    "poff_range_dga = torch.linspace(0.005, 0.97, 500)\n",
    "k_off = 1\n",
    "\n",
    "mean_expression_dga = []\n",
    "fano_factors_dga = []\n",
    "for i in poff_range_dga:\n",
    "    k_on = (1.0 - i) / i\n",
    "    m = k_off/(k_on + k_off) * r_dga/g_dga\n",
    "    mean_expression_dga.append(m)\n",
    "    f = 1 + (k_on/(k_on + k_off)) * (r_dga / (k_on + k_off+g_dga))\n",
    "    fano_factors_dga.append(f)"
   ]
  },
  {
   "cell_type": "markdown",
   "id": "86868523-cc11-4bbb-aafe-a9549e469f6c",
   "metadata": {},
   "source": [
    "### RLOO"
   ]
  },
  {
   "cell_type": "code",
   "execution_count": 57,
   "id": "24bac9db-23f7-4381-b9d6-e1a152df70b8",
   "metadata": {},
   "outputs": [],
   "source": [
    "#simulation data\n",
    "poff_range_rloo = torch.linspace(0.005, 0.97, 500)\n",
    "k_off = 1\n",
    "\n",
    "mean_expression_rloo = []\n",
    "fano_factors_rloo = []\n",
    "for i in poff_range_rloo:\n",
    "    k_on = (1.0 - i) / i\n",
    "    m = k_off/(k_on + k_off) * r_rloo/g_rloo\n",
    "    mean_expression_rloo.append(m)\n",
    "    f = 1 + (k_on/(k_on + k_off)) * (r_rloo / (k_on + k_off+g_rloo))\n",
    "    fano_factors_rloo.append(f)\n",
    "\n",
    "#convert to numpy \n",
    "mean_expression_rloo = torch.tensor(mean_expression_rloo).detach().numpy()\n",
    "fano_factors_rloo = torch.tensor(fano_factors_rloo).detach().numpy()"
   ]
  },
  {
   "cell_type": "code",
   "execution_count": 63,
   "id": "50635046-7ce1-499f-a8db-5fc0f9e202f0",
   "metadata": {},
   "outputs": [
    {
     "data": {
      "image/png": "[encoded data removed]",
      "text/plain": [
       "<Figure size 1000x600 with 1 Axes>"
      ]
     },
     "metadata": {},
     "output_type": "display_data"
    }
   ],
   "source": [
    "# Plot\n",
    "plt.figure(figsize=(10, 6))\n",
    "plt.plot(mean_expression_dga, fano_factors_dga, label=\"Prediction DGA\", linewidth=2, color =\"violet\")\n",
    "#plt.scatter(mean_data, fano_factor_exp, color = \"red\", label = \"Experimental Data\", marker = \"s\")\n",
    "plt.plot(mean_expression_b, fano_factors_b, label=\"Prediction REINFORCE with Baseline\", linewidth=2, color =\"deepskyblue\")\n",
    "plt.plot(mean_expression, fano_factors, label=\"Prediction REINFORCE\", linewidth=2, color =\"navy\")\n",
    "plt.plot(mean_expression_rloo, fano_factors_rloo, label=\"Prediction RLOO\", linewidth=2, color =\"blueviolet\")\n",
    "#plt.plot(mean_expression_rloo, fano_factors_rloo, label=\"Prediction RLOO\", linewidth=2, color =\"red\")\n",
    "plt.errorbar(mean_data, fano_factor_exp, yerr=std_fano, fmt='s', color='red', ecolor='red', capsize=3, label = \"Experimental Data\")\n",
    "plt.xlabel(\"Mean mRNA\", fontsize = 16)\n",
    "plt.ylabel(\"Fano Factor\", fontsize = 16)\n",
    "plt.xscale('log')\n",
    "plt.legend(fontsize = 12, loc = \"upper left\")\n",
    "plt.xticks(fontsize=15)\n",
    "plt.yticks(fontsize=15)\n",
    "plt.grid(True)\n",
    "plt.savefig(\"mean_vs_fano.png\", dpi=150)\n",
    "plt.show()"
   ]
  },
  {
   "cell_type": "markdown",
   "id": "a889a9b2-2120-47e6-b6a7-3c3d91a8a863",
   "metadata": {},
   "source": [
    "# Testing lacUD5 (second mRNA)"
   ]
  },
  {
   "cell_type": "code",
   "execution_count": 71,
   "id": "765f2d88-e706-4c47-b2bc-fc5805699e32",
   "metadata": {},
   "outputs": [],
   "source": [
    "# Load the data from file for lacUD5 promoter \n",
    "data=np.load(\"science_data_lacUD5.npy\")\n",
    "\n",
    "# Extract x and y data\n",
    "x_data = data[:, 0]\n",
    "y_data = data[:, 1]\n",
    "\n",
    "# Get unique x values and their corresponding indices\n",
    "unique_x, unique_indices = np.unique(x_data, return_index=True)\n",
    "\n",
    "# Extract unique y values based on unique indices\n",
    "unique_y = y_data[unique_indices]\n",
    "\n",
    "# Create unique data array with x and y values\n",
    "unique_data_lacUD5 = np.column_stack((unique_x, unique_y))\n",
    "\n",
    "# Convert mean and variance data to torch tensors\n",
    "mean_data_lacUD5 = torch.from_numpy(unique_data_lacUD5[:, 0]).double()\n",
    "var_data_lacUD5 = mean_data_lacUD5 * torch.from_numpy(unique_data_lacUD5[:, 1]).double()"
   ]
  },
  {
   "cell_type": "markdown",
   "id": "d972b516-0ca3-474e-af39-8374cefb2498",
   "metadata": {},
   "source": [
    "# Adam Optimizer"
   ]
  },
  {
   "cell_type": "code",
   "execution_count": 84,
   "id": "53a87177-7641-4d68-b472-95e7b1de79dd",
   "metadata": {},
   "outputs": [
    {
     "name": "stderr",
     "output_type": "stream",
     "text": [
      "  0%|                                           | 1/500 [00:02<20:24,  2.45s/it]"
     ]
    },
    {
     "name": "stdout",
     "output_type": "stream",
     "text": [
      "Epoch 0: Loss = 24.8197\n"
     ]
    },
    {
     "name": "stderr",
     "output_type": "stream",
     "text": [
      "  2%|▉                                         | 11/500 [00:25<18:43,  2.30s/it]"
     ]
    },
    {
     "name": "stdout",
     "output_type": "stream",
     "text": [
      "Epoch 10: Loss = 24.2386\n"
     ]
    },
    {
     "name": "stderr",
     "output_type": "stream",
     "text": [
      "  4%|█▊                                        | 21/500 [00:48<18:09,  2.28s/it]"
     ]
    },
    {
     "name": "stdout",
     "output_type": "stream",
     "text": [
      "Epoch 20: Loss = 25.6093\n"
     ]
    },
    {
     "name": "stderr",
     "output_type": "stream",
     "text": [
      "  6%|██▌                                       | 31/500 [01:11<17:39,  2.26s/it]"
     ]
    },
    {
     "name": "stdout",
     "output_type": "stream",
     "text": [
      "Epoch 30: Loss = 24.8686\n"
     ]
    },
    {
     "name": "stderr",
     "output_type": "stream",
     "text": [
      "  8%|███▍                                      | 41/500 [01:34<17:28,  2.28s/it]"
     ]
    },
    {
     "name": "stdout",
     "output_type": "stream",
     "text": [
      "Epoch 40: Loss = 25.9189\n"
     ]
    },
    {
     "name": "stderr",
     "output_type": "stream",
     "text": [
      " 10%|████▎                                     | 51/500 [01:56<17:07,  2.29s/it]"
     ]
    },
    {
     "name": "stdout",
     "output_type": "stream",
     "text": [
      "Epoch 50: Loss = 26.5883\n"
     ]
    },
    {
     "name": "stderr",
     "output_type": "stream",
     "text": [
      " 12%|█████                                     | 61/500 [02:19<16:51,  2.30s/it]"
     ]
    },
    {
     "name": "stdout",
     "output_type": "stream",
     "text": [
      "Epoch 60: Loss = 24.9015\n"
     ]
    },
    {
     "name": "stderr",
     "output_type": "stream",
     "text": [
      " 14%|█████▉                                    | 71/500 [02:43<16:59,  2.38s/it]"
     ]
    },
    {
     "name": "stdout",
     "output_type": "stream",
     "text": [
      "Epoch 70: Loss = 24.7505\n"
     ]
    },
    {
     "name": "stderr",
     "output_type": "stream",
     "text": [
      " 16%|██████▏                               | 81/500 [28:56<30:41:53, 263.76s/it]"
     ]
    },
    {
     "name": "stdout",
     "output_type": "stream",
     "text": [
      "Epoch 80: Loss = 24.1869\n"
     ]
    },
    {
     "name": "stderr",
     "output_type": "stream",
     "text": [
      " 18%|███████▎                                | 91/500 [29:19<1:06:07,  9.70s/it]"
     ]
    },
    {
     "name": "stdout",
     "output_type": "stream",
     "text": [
      "Epoch 90: Loss = 24.3093\n"
     ]
    },
    {
     "name": "stderr",
     "output_type": "stream",
     "text": [
      " 20%|████████▎                                | 101/500 [29:42<16:25,  2.47s/it]"
     ]
    },
    {
     "name": "stdout",
     "output_type": "stream",
     "text": [
      "Epoch 100: Loss = 22.9931\n"
     ]
    },
    {
     "name": "stderr",
     "output_type": "stream",
     "text": [
      " 22%|█████████                                | 111/500 [30:04<14:25,  2.22s/it]"
     ]
    },
    {
     "name": "stdout",
     "output_type": "stream",
     "text": [
      "Epoch 110: Loss = 22.2490\n"
     ]
    },
    {
     "name": "stderr",
     "output_type": "stream",
     "text": [
      " 24%|█████████▉                               | 121/500 [30:26<14:04,  2.23s/it]"
     ]
    },
    {
     "name": "stdout",
     "output_type": "stream",
     "text": [
      "Epoch 120: Loss = 21.5716\n"
     ]
    },
    {
     "name": "stderr",
     "output_type": "stream",
     "text": [
      " 26%|██████████▋                              | 131/500 [30:49<13:47,  2.24s/it]"
     ]
    },
    {
     "name": "stdout",
     "output_type": "stream",
     "text": [
      "Epoch 130: Loss = 20.4640\n"
     ]
    },
    {
     "name": "stderr",
     "output_type": "stream",
     "text": [
      " 28%|███████████▌                             | 141/500 [31:11<13:28,  2.25s/it]"
     ]
    },
    {
     "name": "stdout",
     "output_type": "stream",
     "text": [
      "Epoch 140: Loss = 22.6709\n"
     ]
    },
    {
     "name": "stderr",
     "output_type": "stream",
     "text": [
      " 30%|████████████▍                            | 151/500 [31:34<13:00,  2.24s/it]"
     ]
    },
    {
     "name": "stdout",
     "output_type": "stream",
     "text": [
      "Epoch 150: Loss = 21.5461\n"
     ]
    },
    {
     "name": "stderr",
     "output_type": "stream",
     "text": [
      " 32%|█████████████▏                           | 161/500 [31:56<12:47,  2.26s/it]"
     ]
    },
    {
     "name": "stdout",
     "output_type": "stream",
     "text": [
      "Epoch 160: Loss = 22.7450\n"
     ]
    },
    {
     "name": "stderr",
     "output_type": "stream",
     "text": [
      " 34%|██████████████                           | 171/500 [32:19<12:19,  2.25s/it]"
     ]
    },
    {
     "name": "stdout",
     "output_type": "stream",
     "text": [
      "Epoch 170: Loss = 22.1408\n"
     ]
    },
    {
     "name": "stderr",
     "output_type": "stream",
     "text": [
      " 36%|██████████████▊                          | 181/500 [32:42<12:05,  2.27s/it]"
     ]
    },
    {
     "name": "stdout",
     "output_type": "stream",
     "text": [
      "Epoch 180: Loss = 22.4484\n"
     ]
    },
    {
     "name": "stderr",
     "output_type": "stream",
     "text": [
      " 38%|███████████████▋                         | 191/500 [33:05<12:12,  2.37s/it]"
     ]
    },
    {
     "name": "stdout",
     "output_type": "stream",
     "text": [
      "Epoch 190: Loss = 22.6087\n"
     ]
    },
    {
     "name": "stderr",
     "output_type": "stream",
     "text": [
      " 40%|████████████████▍                        | 201/500 [33:28<11:32,  2.32s/it]"
     ]
    },
    {
     "name": "stdout",
     "output_type": "stream",
     "text": [
      "Epoch 200: Loss = 23.7279\n"
     ]
    },
    {
     "name": "stderr",
     "output_type": "stream",
     "text": [
      " 42%|█████████████████▎                       | 211/500 [33:52<11:36,  2.41s/it]"
     ]
    },
    {
     "name": "stdout",
     "output_type": "stream",
     "text": [
      "Epoch 210: Loss = 22.6061\n"
     ]
    },
    {
     "name": "stderr",
     "output_type": "stream",
     "text": [
      " 44%|██████████████████                       | 221/500 [34:16<10:57,  2.36s/it]"
     ]
    },
    {
     "name": "stdout",
     "output_type": "stream",
     "text": [
      "Epoch 220: Loss = 23.0009\n"
     ]
    },
    {
     "name": "stderr",
     "output_type": "stream",
     "text": [
      " 46%|██████████████████▉                      | 231/500 [34:39<10:34,  2.36s/it]"
     ]
    },
    {
     "name": "stdout",
     "output_type": "stream",
     "text": [
      "Epoch 230: Loss = 24.0016\n"
     ]
    },
    {
     "name": "stderr",
     "output_type": "stream",
     "text": [
      " 48%|███████████████████▊                     | 241/500 [35:03<10:09,  2.35s/it]"
     ]
    },
    {
     "name": "stdout",
     "output_type": "stream",
     "text": [
      "Epoch 240: Loss = 21.4797\n"
     ]
    },
    {
     "name": "stderr",
     "output_type": "stream",
     "text": [
      " 50%|████████████████████▌                    | 251/500 [35:27<09:49,  2.37s/it]"
     ]
    },
    {
     "name": "stdout",
     "output_type": "stream",
     "text": [
      "Epoch 250: Loss = 22.5766\n"
     ]
    },
    {
     "name": "stderr",
     "output_type": "stream",
     "text": [
      " 52%|█████████████████████▍                   | 261/500 [35:50<09:15,  2.32s/it]"
     ]
    },
    {
     "name": "stdout",
     "output_type": "stream",
     "text": [
      "Epoch 260: Loss = 22.5784\n"
     ]
    },
    {
     "name": "stderr",
     "output_type": "stream",
     "text": [
      " 54%|██████████████████████▏                  | 271/500 [36:14<08:53,  2.33s/it]"
     ]
    },
    {
     "name": "stdout",
     "output_type": "stream",
     "text": [
      "Epoch 270: Loss = 21.3546\n"
     ]
    },
    {
     "name": "stderr",
     "output_type": "stream",
     "text": [
      " 56%|███████████████████████                  | 281/500 [36:36<08:18,  2.28s/it]"
     ]
    },
    {
     "name": "stdout",
     "output_type": "stream",
     "text": [
      "Epoch 280: Loss = 21.9748\n"
     ]
    },
    {
     "name": "stderr",
     "output_type": "stream",
     "text": [
      " 58%|███████████████████████▊                 | 291/500 [36:59<07:48,  2.24s/it]"
     ]
    },
    {
     "name": "stdout",
     "output_type": "stream",
     "text": [
      "Epoch 290: Loss = 20.5431\n"
     ]
    },
    {
     "name": "stderr",
     "output_type": "stream",
     "text": [
      " 60%|████████████████████████▋                | 301/500 [37:22<07:30,  2.26s/it]"
     ]
    },
    {
     "name": "stdout",
     "output_type": "stream",
     "text": [
      "Epoch 300: Loss = 21.1296\n"
     ]
    },
    {
     "name": "stderr",
     "output_type": "stream",
     "text": [
      " 62%|█████████████████████████▌               | 311/500 [37:44<07:05,  2.25s/it]"
     ]
    },
    {
     "name": "stdout",
     "output_type": "stream",
     "text": [
      "Epoch 310: Loss = 19.4435\n"
     ]
    },
    {
     "name": "stderr",
     "output_type": "stream",
     "text": [
      " 64%|██████████████████████████▎              | 321/500 [38:07<06:43,  2.25s/it]"
     ]
    },
    {
     "name": "stdout",
     "output_type": "stream",
     "text": [
      "Epoch 320: Loss = 20.6364\n"
     ]
    },
    {
     "name": "stderr",
     "output_type": "stream",
     "text": [
      " 66%|███████████████████████████▏             | 331/500 [38:29<06:23,  2.27s/it]"
     ]
    },
    {
     "name": "stdout",
     "output_type": "stream",
     "text": [
      "Epoch 330: Loss = 20.8947\n"
     ]
    },
    {
     "name": "stderr",
     "output_type": "stream",
     "text": [
      " 68%|███████████████████████████▉             | 341/500 [38:52<06:02,  2.28s/it]"
     ]
    },
    {
     "name": "stdout",
     "output_type": "stream",
     "text": [
      "Epoch 340: Loss = 22.0545\n"
     ]
    },
    {
     "name": "stderr",
     "output_type": "stream",
     "text": [
      " 70%|████████████████████████████▊            | 351/500 [39:15<05:37,  2.27s/it]"
     ]
    },
    {
     "name": "stdout",
     "output_type": "stream",
     "text": [
      "Epoch 350: Loss = 22.6120\n"
     ]
    },
    {
     "name": "stderr",
     "output_type": "stream",
     "text": [
      " 72%|█████████████████████████████▌           | 361/500 [39:37<05:13,  2.26s/it]"
     ]
    },
    {
     "name": "stdout",
     "output_type": "stream",
     "text": [
      "Epoch 360: Loss = 20.8076\n"
     ]
    },
    {
     "name": "stderr",
     "output_type": "stream",
     "text": [
      " 74%|██████████████████████████████▍          | 371/500 [40:00<04:54,  2.29s/it]"
     ]
    },
    {
     "name": "stdout",
     "output_type": "stream",
     "text": [
      "Epoch 370: Loss = 20.8513\n"
     ]
    },
    {
     "name": "stderr",
     "output_type": "stream",
     "text": [
      " 76%|███████████████████████████████▏         | 381/500 [40:23<04:31,  2.28s/it]"
     ]
    },
    {
     "name": "stdout",
     "output_type": "stream",
     "text": [
      "Epoch 380: Loss = 21.5887\n"
     ]
    },
    {
     "name": "stderr",
     "output_type": "stream",
     "text": [
      " 78%|████████████████████████████████         | 391/500 [40:46<04:07,  2.27s/it]"
     ]
    },
    {
     "name": "stdout",
     "output_type": "stream",
     "text": [
      "Epoch 390: Loss = 21.9574\n"
     ]
    },
    {
     "name": "stderr",
     "output_type": "stream",
     "text": [
      " 80%|████████████████████████████████▉        | 401/500 [41:08<03:43,  2.26s/it]"
     ]
    },
    {
     "name": "stdout",
     "output_type": "stream",
     "text": [
      "Epoch 400: Loss = 21.7733\n"
     ]
    },
    {
     "name": "stderr",
     "output_type": "stream",
     "text": [
      " 82%|█████████████████████████████████▋       | 411/500 [41:31<03:19,  2.24s/it]"
     ]
    },
    {
     "name": "stdout",
     "output_type": "stream",
     "text": [
      "Epoch 410: Loss = 21.2935\n"
     ]
    },
    {
     "name": "stderr",
     "output_type": "stream",
     "text": [
      " 84%|██████████████████████████████████▌      | 421/500 [41:53<02:59,  2.27s/it]"
     ]
    },
    {
     "name": "stdout",
     "output_type": "stream",
     "text": [
      "Epoch 420: Loss = 22.1438\n"
     ]
    },
    {
     "name": "stderr",
     "output_type": "stream",
     "text": [
      " 86%|███████████████████████████████████▎     | 431/500 [42:15<02:34,  2.24s/it]"
     ]
    },
    {
     "name": "stdout",
     "output_type": "stream",
     "text": [
      "Epoch 430: Loss = 22.3234\n"
     ]
    },
    {
     "name": "stderr",
     "output_type": "stream",
     "text": [
      " 88%|████████████████████████████████████▏    | 441/500 [42:38<02:13,  2.26s/it]"
     ]
    },
    {
     "name": "stdout",
     "output_type": "stream",
     "text": [
      "Epoch 440: Loss = 22.6601\n"
     ]
    },
    {
     "name": "stderr",
     "output_type": "stream",
     "text": [
      " 90%|████████████████████████████████████▉    | 451/500 [43:00<01:50,  2.26s/it]"
     ]
    },
    {
     "name": "stdout",
     "output_type": "stream",
     "text": [
      "Epoch 450: Loss = 24.4067\n"
     ]
    },
    {
     "name": "stderr",
     "output_type": "stream",
     "text": [
      " 92%|█████████████████████████████████████▊   | 461/500 [43:23<01:29,  2.30s/it]"
     ]
    },
    {
     "name": "stdout",
     "output_type": "stream",
     "text": [
      "Epoch 460: Loss = 23.0673\n"
     ]
    },
    {
     "name": "stderr",
     "output_type": "stream",
     "text": [
      " 94%|██████████████████████████████████████▌  | 471/500 [43:46<01:06,  2.28s/it]"
     ]
    },
    {
     "name": "stdout",
     "output_type": "stream",
     "text": [
      "Epoch 470: Loss = 22.3391\n"
     ]
    },
    {
     "name": "stderr",
     "output_type": "stream",
     "text": [
      " 96%|███████████████████████████████████████▍ | 481/500 [44:09<00:43,  2.28s/it]"
     ]
    },
    {
     "name": "stdout",
     "output_type": "stream",
     "text": [
      "Epoch 480: Loss = 22.8193\n"
     ]
    },
    {
     "name": "stderr",
     "output_type": "stream",
     "text": [
      " 98%|████████████████████████████████████████▎| 491/500 [44:32<00:20,  2.29s/it]"
     ]
    },
    {
     "name": "stdout",
     "output_type": "stream",
     "text": [
      "Epoch 490: Loss = 21.6715\n"
     ]
    },
    {
     "name": "stderr",
     "output_type": "stream",
     "text": [
      "100%|█████████████████████████████████████████| 500/500 [44:52<00:00,  5.39s/it]\n"
     ]
    }
   ],
   "source": [
    "#parameters\n",
    "# Set seed for reproducibility \n",
    "torch.manual_seed(42)\n",
    "\n",
    "# Define simulation hyperparameters\n",
    "num_iterations = 500\n",
    "num_simulations = 250\n",
    "sim_time = 0.2\n",
    "\n",
    "poff_values = torch.nn.Parameter(torch.linspace(0.03, 0.97, len(unique_data_lacUD5)))\n",
    "r = torch.nn.Parameter((1e+2) * torch.rand(1))\n",
    "g = torch.nn.Parameter((1e+1) * torch.rand(1))\n",
    "optimizer = optim.Adam([poff_values, r, g], lr = 0.01)\n",
    "\n",
    "#save to file\n",
    "filename1 = \"reinforce_poff_lacUD5_500.txt\"\n",
    "filename2 = \"reinforce_main_lacUD5_500.txt\"\n",
    "#filename1 = \"reinforce_poff_baseline_lacUD5_501.txt\"\n",
    "#filename2 = \"reinforce_main_baseline_lacUD5_501.txt\"\n",
    "if os.path.exists(filename1):\n",
    "    os.remove(filename1)\n",
    "if os.path.exists(filename2):\n",
    "    os.remove(filename2)\n",
    "\n",
    "for iteration in tqdm(range(num_iterations)):\n",
    "    optimizer.zero_grad()\n",
    "\n",
    "    grad_poff = torch.zeros_like(poff_values)\n",
    "    #grad_r = 0.0\n",
    "    #grad_g = 0.0\n",
    "    grad_r = torch.zeros_like(r)\n",
    "    grad_g = torch.zeros_like(g)\n",
    "    total_loss = 0.0\n",
    "\n",
    "    for i in range(len(unique_data_lacUD5)):\n",
    "        dp, dr, dg, loss = reinforce_estimate(poff_values[i], r, g, mean_data_lacUD5[i], var_data_lacUD5[i], num_simulations)\n",
    "        #dp, dr, dg, loss = reinforce_estimate_baseline(poff_values[i], r, g, mean_data_lacUD5[i], var_data_lacUD5[i], num_iterations)\n",
    "        grad_poff[i] = dp\n",
    "        grad_r += dr\n",
    "        grad_g += dg\n",
    "        total_loss += loss\n",
    "\n",
    "    grad_r /= len(unique_data_lacUD5)\n",
    "    grad_g /= len(unique_data_lacUD5)\n",
    "    total_loss /= len(unique_data_lacUD5)\n",
    "\n",
    "    poff_values.grad = grad_poff\n",
    "    r.grad = grad_r\n",
    "    g.grad = grad_g\n",
    "\n",
    "    torch.nn.utils.clip_grad_norm_([poff_values, r, g], max_norm=1.0)\n",
    "    optimizer.step()\n",
    "\n",
    "    # Clamp and sort as in original\n",
    "    with torch.no_grad():\n",
    "        r.data.clamp_(min=1.0)\n",
    "        g.data.clamp_(min=1.0, max=r.item())\n",
    "        poff_values.data.clamp_(min=0.01, max=0.98)\n",
    "        poff_values.data, _ = torch.sort(poff_values.data)\n",
    "\n",
    "    # Save every 10 iterations\n",
    "    if iteration % 10 == 0:\n",
    "        print(f\"Epoch {iteration}: Loss = {total_loss.item():.4f}\")\n",
    "\n",
    "    if iteration %1 == 0:\n",
    "        write_to_file(filename2, iteration, r.item(), g.item(), r.item() / g.item(), total_loss.item())\n",
    "        write_to_file(filename1, poff_values.tolist(), total_loss.item())\n"
   ]
  },
  {
   "cell_type": "markdown",
   "id": "c11e80b1-2485-426a-a280-5977bfbdf439",
   "metadata": {},
   "source": [
    "### Value extraction for REINFORCE"
   ]
  },
  {
   "cell_type": "code",
   "execution_count": 73,
   "id": "4c200949-9417-4533-a40b-2ce69e29c9e8",
   "metadata": {},
   "outputs": [],
   "source": [
    "data = np.loadtxt(\"reinforce_main_lacUD5_200.txt\")\n",
    "row_index = np.argmin(data[:, -1])\n",
    "r_lacUD5 = data[row_index, 1]\n",
    "g_lacUD5 = data[row_index, 2]\n",
    "\n",
    "poff_values_lacUD5 = []\n",
    "with open(\"reinforce_poff_lacUD5_200.txt\", \"r\") as file:\n",
    "    for line in file:\n",
    "        list_str = line.rsplit(' ', 1)[0]\n",
    "        list_str = list_str.strip('[').strip(']')\n",
    "        str_values = list_str.split(',')\n",
    "        row = [float(value) for value in str_values]\n",
    "        poff_values_lacUD5.append(row)\n",
    "\n",
    "poff_values_lacUD5 = poff_values_lacUD5[row_index][:len(unique_data_lacUD5)]"
   ]
  },
  {
   "cell_type": "markdown",
   "id": "513f1d13-59a9-45bf-afb9-e0ac557e6f6d",
   "metadata": {},
   "source": [
    "### Value extraction for REINFORCE with Baseline"
   ]
  },
  {
   "cell_type": "code",
   "execution_count": 76,
   "id": "cba067b6-d99a-45f6-aa3b-94f67adead76",
   "metadata": {},
   "outputs": [],
   "source": [
    "data_b = np.loadtxt(\"reinforce_main_baseline_lacUD5_501.txt\")\n",
    "row_index_b = np.argmin(data_b[:, -1])\n",
    "r_b_lacUD5 = data_b[row_index_b, 1]\n",
    "g_b_lacUD5 = data_b[row_index_b, 2]\n",
    "\n",
    "poff_values_b_lacUD5 = []\n",
    "with open(\"reinforce_poff_baseline_lacUD5_501.txt\", \"r\") as file:\n",
    "    for line in file:\n",
    "        list_str = line.rsplit(' ', 1)[0]\n",
    "        list_str = list_str.strip('[').strip(']')\n",
    "        str_values = list_str.split(',')\n",
    "        row = [float(value) for value in str_values]\n",
    "        poff_values_b_lacUD5.append(row)\n",
    "\n",
    "poff_values_b_lacUD5 = poff_values_b_lacUD5[row_index_b][:len(unique_data_lacUD5)]"
   ]
  },
  {
   "cell_type": "markdown",
   "id": "d54cae65-0215-4b3d-9738-3e30f8742df8",
   "metadata": {},
   "source": [
    "### import DGA data"
   ]
  },
  {
   "cell_type": "code",
   "execution_count": 79,
   "id": "24a2fede-9cb4-4481-a84e-63cd51007add",
   "metadata": {},
   "outputs": [],
   "source": [
    "# Find the row index with minimum loss value. \n",
    "data_dga=np.loadtxt(\"learning_science_lacUD5_500.txt\")\n",
    "row_index_dga = np.argmin(data_dga[:, -1])\n",
    "r_dga_lacUD5=data_dga[row_index_dga,1]\n",
    "g_dga_lacUD5=data_dga[row_index_dga, 2]\n",
    "\n",
    "# Path to poff_values\n",
    "file_path_dga = 'learning_science_lacUD5_poff_500.txt'\n",
    "\n",
    "# Initialize an empty list to store rows\n",
    "poff_values_dga = []\n",
    "\n",
    "with open(file_path_dga, 'r') as file:\n",
    "    for line in file:\n",
    "        # Remove the trailing number by splitting at the last space and taking the first part\n",
    "        list_str = line.rsplit(' ', 1)[0]\n",
    "        # Remove surrounding brackets\n",
    "        list_str = list_str.strip('[').strip(']')\n",
    "        # Split the remaining string by commas to form a list of strings\n",
    "        str_values = list_str.split(',')\n",
    "        # Convert strings to floats\n",
    "        row = [float(value) for value in str_values]\n",
    "        # Append the row to our data list\n",
    "        poff_values_dga.append(row)\n",
    "  \n",
    "poff_values_dga = poff_values_dga[row_index_dga][:len(unique_data_lacUD5)] "
   ]
  },
  {
   "cell_type": "markdown",
   "id": "0eac8e28-6e07-4d7e-8c79-1969b176b088",
   "metadata": {},
   "source": [
    "### import RLOO data"
   ]
  },
  {
   "cell_type": "code",
   "execution_count": 82,
   "id": "094f7b1d-3157-4d6f-b481-a4c77df90560",
   "metadata": {},
   "outputs": [],
   "source": [
    "data = np.loadtxt(\"RLOO_main_lacUD5_100.txt\")\n",
    "row_index = np.argmin(data[:, -1])\n",
    "r_rloo_lacUD5 = data[row_index, 1]\n",
    "g_rloo_lacUD5 = data[row_index, 2]\n",
    "\n",
    "poff_values_lacUD5 = []\n",
    "with open(\"RLOO_poff_lacUD5_100.txt\", \"r\") as file:\n",
    "    for line in file:\n",
    "        list_str = line.rsplit(' ', 1)[0]\n",
    "        list_str = list_str.strip('[').strip(']')\n",
    "        str_values = list_str.split(',')\n",
    "        row = [float(value) for value in str_values]\n",
    "        poff_values_lacUD5.append(row)\n",
    "\n",
    "poff_values_lacUD5 = poff_values_lacUD5[row_index][:len(unique_data_lacUD5)]"
   ]
  },
  {
   "cell_type": "markdown",
   "id": "cfcd2556-0a95-4a89-8acf-b534b641dc09",
   "metadata": {},
   "source": [
    "## Mean vs Fano Factor"
   ]
  },
  {
   "cell_type": "markdown",
   "id": "35261d8d-0e93-4567-b708-d27b50859dee",
   "metadata": {},
   "source": [
    "### REINFORCE"
   ]
  },
  {
   "cell_type": "code",
   "execution_count": 84,
   "id": "88406f8e-915b-47f9-9cd2-7a18559151b0",
   "metadata": {},
   "outputs": [],
   "source": [
    "#simulation data\n",
    "r_best = r_lacUD5\n",
    "g_best = g_lacUD5\n",
    "\n",
    "poff_range = torch.linspace(0.003, 0.97, 500)\n",
    "\n",
    "k_off = 1\n",
    "\n",
    "mean_expression = []\n",
    "fano_factors = []\n",
    "for i in poff_range:\n",
    "    k_on = (1.0 - i) / i\n",
    "    m = k_off/(k_on + k_off) * r_best/g_best\n",
    "    mean_expression.append(m)\n",
    "    f = 1 + (k_on/(k_on + k_off)) * (r_best / (k_on + k_off+g_best))\n",
    "    fano_factors.append(f)\n",
    "\n",
    "#convert to numpy \n",
    "mean_expression = torch.tensor(mean_expression).detach().numpy()\n",
    "fano_factors = torch.tensor(fano_factors).detach().numpy()"
   ]
  },
  {
   "cell_type": "markdown",
   "id": "20df6b97-e41e-4198-8751-0d26012e8b28",
   "metadata": {},
   "source": [
    "### REINFORCE with Baseline"
   ]
  },
  {
   "cell_type": "code",
   "execution_count": 87,
   "id": "793a8626-c554-4d37-add1-3fd57615cfbf",
   "metadata": {},
   "outputs": [],
   "source": [
    "#simulation data\n",
    "#poff_range_b = torch.linspace(poff_values_b[0], poff_values_b[-1], 500)\n",
    "poff_range_b_lacUD5  = torch.linspace(0.003, 0.97, 500)\n",
    "k_off = 1\n",
    "\n",
    "mean_expression_b_lacUD5  = []\n",
    "fano_factors_b_lacUD5  = []\n",
    "for i in poff_range_b_lacUD5 :\n",
    "    k_on = (1.0 - i) / i\n",
    "    m = k_off/(k_on + k_off) * r_b_lacUD5/g_b_lacUD5\n",
    "    mean_expression_b_lacUD5 .append(m)\n",
    "    f = 1 + (k_on/(k_on + k_off)) * (r_b_lacUD5 / (k_on + k_off+g_b_lacUD5))\n",
    "    fano_factors_b_lacUD5 .append(f)"
   ]
  },
  {
   "cell_type": "markdown",
   "id": "d5539ebe-7fed-4154-a41d-d8fed1e63d4b",
   "metadata": {},
   "source": [
    "### DGA Data"
   ]
  },
  {
   "cell_type": "code",
   "execution_count": 90,
   "id": "3a76d80c-363e-4323-a8df-68483c9db3ba",
   "metadata": {},
   "outputs": [],
   "source": [
    "#simulation data\n",
    "poff_range_dga = torch.linspace(0.003, 0.97, 500)\n",
    "k_off = 1\n",
    "\n",
    "mean_expression_dga = []\n",
    "fano_factors_dga = []\n",
    "for i in poff_range_dga:\n",
    "    k_on = (1.0 - i) / i\n",
    "    m = k_off/(k_on + k_off) * r_dga_lacUD5/g_dga_lacUD5\n",
    "    mean_expression_dga.append(m)\n",
    "    f = 1 + (k_on/(k_on + k_off)) * (r_dga_lacUD5 / (k_on + k_off+g_dga_lacUD5))\n",
    "    fano_factors_dga.append(f)\n",
    "\n"
   ]
  },
  {
   "cell_type": "markdown",
   "id": "15e33e3c-b071-4073-bfa0-d71f0c404b5e",
   "metadata": {},
   "source": [
    "### RLOO"
   ]
  },
  {
   "cell_type": "code",
   "execution_count": 92,
   "id": "1f932d26-7eb7-49a0-a954-2ecdc5d5e19a",
   "metadata": {},
   "outputs": [],
   "source": [
    "#simulation data\n",
    "r_best = r_rloo_lacUD5\n",
    "g_best = g_rloo_lacUD5\n",
    "\n",
    "poff_range_rloo = torch.linspace(0.003, 0.97, 500)\n",
    "\n",
    "k_off = 1\n",
    "\n",
    "mean_expression_rloo = []\n",
    "fano_factors_rloo = []\n",
    "for i in poff_range_rloo:\n",
    "    k_on = (1.0 - i) / i\n",
    "    m = k_off/(k_on + k_off) * r_rloo_lacUD5/g_rloo_lacUD5\n",
    "    mean_expression_rloo.append(m)\n",
    "    f = 1 + (k_on/(k_on + k_off)) * (r_rloo_lacUD5 / (k_on + k_off+g_rloo_lacUD5))\n",
    "    fano_factors_rloo.append(f)\n",
    "\n",
    "#convert to numpy \n",
    "mean_expression_rloo = torch.tensor(mean_expression_rloo).detach().numpy()\n",
    "fano_factors_rloo = torch.tensor(fano_factors_rloo).detach().numpy()"
   ]
  },
  {
   "cell_type": "markdown",
   "id": "679f7bf7-4efb-42a0-bdc9-e0e3a03171a1",
   "metadata": {},
   "source": [
    "### Experimental Data"
   ]
  },
  {
   "cell_type": "code",
   "execution_count": 97,
   "id": "95b9e898-0167-48c6-9a85-8b67e5e5675a",
   "metadata": {},
   "outputs": [],
   "source": [
    "#experimental data\n",
    "fano_factor_exp = var_data_lacUD5 / mean_data_lacUD5\n",
    "\n",
    "# Calculate standard error for plotting (optional, adjust as needed)\n",
    "std_mRNA = np.sqrt(mean_data_lacUD5)/np.sqrt(17)  # or from your data\n",
    "std_fano = np.sqrt(fano_factor_exp)/np.sqrt(17)  # or from variance propagation"
   ]
  },
  {
   "cell_type": "markdown",
   "id": "59b260cb-0f58-4d98-9f55-0a1e97c2eb21",
   "metadata": {},
   "source": [
    "### Plot Graph"
   ]
  },
  {
   "cell_type": "code",
   "execution_count": 100,
   "id": "dcbf585a-5bad-458a-bcb7-7934353668ca",
   "metadata": {},
   "outputs": [
    {
     "data": {
      "image/png": "[encoded data removed]",
      "text/plain": [
       "<Figure size 1000x600 with 1 Axes>"
      ]
     },
     "metadata": {},
     "output_type": "display_data"
    }
   ],
   "source": [
    "# Plot\n",
    "plt.figure(figsize=(10, 6))\n",
    "plt.plot(mean_expression_dga, fano_factors_dga, label=\"Prediction DGA\", linewidth=2, color =\"violet\")\n",
    "plt.plot(mean_expression_b_lacUD5 , fano_factors_b_lacUD5 , label=\"Prediction REINFORCE with Baseline\", linewidth=2, color =\"deepskyblue\")\n",
    "plt.plot(mean_expression, fano_factors, label=\"Prediction REINFORCE\", linewidth=2, color =\"navy\")\n",
    "plt.plot(mean_expression_rloo, fano_factors_rloo, label=\"Prediction RLOO\", linewidth=2, color =\"blueviolet\")\n",
    "plt.errorbar(mean_data_lacUD5, fano_factor_exp, yerr=std_fano, fmt='s', color='red', ecolor='red', capsize=3, label = \"Experimental Data\")\n",
    "plt.xlabel(\"Mean mRNA\", fontsize = 16)\n",
    "plt.ylabel(\"Fano Factor\", fontsize = 16)\n",
    "plt.xscale('log')\n",
    "plt.legend(fontsize = 12, loc = \"upper left\")\n",
    "plt.xticks(fontsize=15)\n",
    "plt.yticks(fontsize=15)\n",
    "plt.grid(True)\n",
    "plt.savefig(\"mean_vs_fano_lacUD5.png\", dpi=150)\n",
    "plt.show()"
   ]
  },
  {
   "cell_type": "markdown",
   "id": "377ed18b-ab62-4b2c-b95d-5782333fad30",
   "metadata": {},
   "source": [
    "# Normalized Transcription Rate (for both mRNA)"
   ]
  },
  {
   "cell_type": "markdown",
   "id": "fd0c3927-008e-446c-ab9c-c01df1596059",
   "metadata": {},
   "source": [
    "### Predicted values for 5DL1"
   ]
  },
  {
   "cell_type": "code",
   "execution_count": 131,
   "id": "eb1c2ef4-dc6f-4871-b006-ca089c5d2ab1",
   "metadata": {},
   "outputs": [],
   "source": [
    "#REINFORCE \n",
    "ratio_r = r_best/g_best\n",
    "\n",
    "#REINFORCE with Baseline\n",
    "ratio_b = r_b/g_b\n",
    "\n",
    "#DGA\n",
    "ratio_dga = r_dga/g_dga\n",
    "\n",
    "#RLOO\n",
    "ratio_rloo = r_rloo/g_rloo"
   ]
  },
  {
   "cell_type": "markdown",
   "id": "4b2cf7ba-11da-4b0c-8112-c7328e694f43",
   "metadata": {},
   "source": [
    "### Experimental value for 5DL1"
   ]
  },
  {
   "cell_type": "code",
   "execution_count": 106,
   "id": "f4c60717-2ef0-4b51-b632-f5b87e2d2260",
   "metadata": {},
   "outputs": [],
   "source": [
    "ratio_exp = 8.0"
   ]
  },
  {
   "cell_type": "markdown",
   "id": "9551468f-fe2b-4105-9916-e994e3b3e4e5",
   "metadata": {},
   "source": [
    "### Predicted values for lacUD5"
   ]
  },
  {
   "cell_type": "code",
   "execution_count": 104,
   "id": "1cd6843a-c07a-4991-a1e0-ac0bd1977545",
   "metadata": {},
   "outputs": [],
   "source": [
    "#REINFORCE \n",
    "ratio_r_lacUD5 = r_lacUD5/g_lacUD5\n",
    "\n",
    "#REINFORCE with Baseline\n",
    "ratio_b_lacUD5 = r_b_lacUD5/g_b_lacUD5\n",
    "\n",
    "#DGA\n",
    "ratio_dga_lacUD5 = r_dga_lacUD5/g_dga_lacUD5\n",
    "\n",
    "#RLOO\n",
    "ratio_rloo_lacUD5 = r_rloo_lacUD5/g_rloo_lacUD5"
   ]
  },
  {
   "cell_type": "markdown",
   "id": "c6df5b48-b354-4363-982f-424647656f2a",
   "metadata": {},
   "source": [
    "### Experimental value for IacUD5"
   ]
  },
  {
   "cell_type": "code",
   "execution_count": 108,
   "id": "5eba3f5a-30e2-4234-8485-2b48bbf85c7b",
   "metadata": {},
   "outputs": [],
   "source": [
    "ratio_exp_lacUD5 = 15.7"
   ]
  },
  {
   "cell_type": "markdown",
   "id": "0a08a26d-008b-4411-9413-2491ef4ee035",
   "metadata": {},
   "source": [
    "### Standard Deviation of r and g"
   ]
  },
  {
   "cell_type": "code",
   "execution_count": 118,
   "id": "287e6383-b1ed-44e1-aa0a-bc390df9706d",
   "metadata": {},
   "outputs": [],
   "source": [
    "# Set random seed for reproducibility\n",
    "torch.manual_seed(42)\n",
    "\n",
    "# Define simulation hyperparameters\n",
    "num_simulations = 200\n",
    "sim_time = 0.2\n",
    "\n",
    "def std_r(r, g, poff_values, reinforce_estimate, mean_data, var_data, unique_data, device='cpu', num_points=50, num_points2=50):\n",
    "    loss_list = []\n",
    "\n",
    "    # Generate a range of r values around the current value\n",
    "    r_list = np.linspace(r - 0.8 * r, 2 * r, num_points)\n",
    "\n",
    "    for r_value in r_list:\n",
    "        r_tensor = torch.tensor([r_value], dtype=torch.float32, device=device)\n",
    "        g_tensor = torch.tensor([g], dtype=torch.float32, device=device)\n",
    "        poff_tensor = torch.tensor(poff_values, dtype=torch.float32, device=device)\n",
    "\n",
    "        total_loss = 0.0\n",
    "\n",
    "        for i in range(len(unique_data)):\n",
    "            poff_i = poff_tensor[i].unsqueeze(0)\n",
    "            mean_i = mean_data[i]\n",
    "            var_i = var_data[i]\n",
    "\n",
    "            _, _, _, loss = reinforce_estimate(poff_i, r_tensor, g_tensor, mean_i, var_i, num_simulations)\n",
    "            total_loss += loss.item()\n",
    "\n",
    "        avg_loss = total_loss / len(unique_data)\n",
    "        loss_list.append(avg_loss)\n",
    "\n",
    "    coeffs = np.polyfit(r_list, loss_list, deg=6)\n",
    "    poly_func = np.poly1d(coeffs)\n",
    "    second_derivative = np.polyder(poly_func, 2)\n",
    "\n",
    "    evaluation_points = np.linspace(r_list[0], r_list[-1], num_points2)\n",
    "    curvatures = [second_derivative(p) for p in evaluation_points]\n",
    "    average_curvature = np.mean(curvatures)\n",
    "\n",
    "    std_r_val = 1.0 / np.sqrt(abs(average_curvature))\n",
    "    return std_r_val\n",
    "\n",
    "\n",
    "def std_g(r, g, poff_values, reinforce_estimate, mean_data, var_data, unique_data, device='cpu', num_points=50, num_points2=50):\n",
    "    loss_list = []\n",
    "\n",
    "    g_list = np.linspace(g - 0.8 * g, 2 * g, num_points)\n",
    "\n",
    "    for g_value in g_list:\n",
    "        r_tensor = torch.tensor([r], dtype=torch.float32, device=device)\n",
    "        g_tensor = torch.tensor([g_value], dtype=torch.float32, device=device)\n",
    "        poff_tensor = torch.tensor(poff_values, dtype=torch.float32, device=device)\n",
    "\n",
    "        total_loss = 0.0\n",
    "\n",
    "        for i in range(len(unique_data)):\n",
    "            poff_i = poff_tensor[i].unsqueeze(0)\n",
    "            mean_i = mean_data[i]\n",
    "            var_i = var_data[i]\n",
    "\n",
    "            _, _, _, loss = reinforce_estimate(poff_i, r_tensor, g_tensor, mean_i, var_i, num_simulations)\n",
    "            total_loss += loss.item()\n",
    "\n",
    "        avg_loss = total_loss / len(unique_data)\n",
    "        loss_list.append(avg_loss)\n",
    "\n",
    "    coeffs = np.polyfit(g_list, loss_list, deg=6)\n",
    "    poly_func = np.poly1d(coeffs)\n",
    "    second_derivative = np.polyder(poly_func, 2)\n",
    "\n",
    "    evaluation_points = np.linspace(g_list[0], g_list[-1], num_points2)\n",
    "    curvatures = [second_derivative(p) for p in evaluation_points]\n",
    "    average_curvature = np.mean(curvatures)\n",
    "\n",
    "    std_g_val = 1.0 / np.sqrt(abs(average_curvature))\n",
    "    return std_g_val\n"
   ]
  },
  {
   "cell_type": "code",
   "execution_count": 120,
   "id": "c62124b7-4511-418c-9720-7811c83763c8",
   "metadata": {},
   "outputs": [],
   "source": [
    "#values for 5DL1\n",
    "std_r_reinforce = std_r(r_best, g_best, poff_values, reinforce_estimate, mean_data, var_data, unique_data)\n",
    "std_g_reinforce = std_g(r_best, g_best, poff_values, reinforce_estimate, mean_data, var_data, unique_data)"
   ]
  },
  {
   "cell_type": "code",
   "execution_count": 121,
   "id": "0011e72c-5f66-4e91-bc72-90ce37055e4d",
   "metadata": {},
   "outputs": [],
   "source": [
    "#values for lacUD5\n",
    "std_r_reinforce_lacUD5 = std_r(r_lacUD5, g_lacUD5, poff_values_lacUD5, reinforce_estimate, mean_data_lacUD5, var_data_lacUD5, unique_data_lacUD5)\n",
    "std_g_reinforce_lacUD5 = std_g(r_lacUD5, g_lacUD5, poff_values_lacUD5, reinforce_estimate, mean_data_lacUD5, var_data_lacUD5, unique_data_lacUD5)"
   ]
  },
  {
   "cell_type": "code",
   "execution_count": 122,
   "id": "57ed2f00-8070-47da-86bc-3273d8dc9219",
   "metadata": {},
   "outputs": [],
   "source": [
    "num_simulations = 50 \n",
    "\n",
    "#baseline\n",
    "std_r_baseline = std_r(r_b, g_b, poff_values_b, reinforce_estimate_baseline, mean_data, var_data, unique_data)\n",
    "std_g_baseline = std_g(r_b, g_b, poff_values_b, reinforce_estimate_baseline, mean_data, var_data, unique_data)\n",
    "\n",
    "std_r_baseline_lacUD5 = std_r(r_b_lacUD5, g_b_lacUD5, poff_values_b_lacUD5, reinforce_estimate_baseline, mean_data_lacUD5, var_data_lacUD5, unique_data_lacUD5)\n",
    "std_g_baseline_lacUD5 = std_g(r_b_lacUD5, g_b_lacUD5, poff_values_b_lacUD5, reinforce_estimate_baseline, mean_data_lacUD5, var_data_lacUD5, unique_data_lacUD5)"
   ]
  },
  {
   "cell_type": "markdown",
   "id": "8fcb7970-01dc-4f58-88ae-9ad3c420e9d2",
   "metadata": {},
   "source": [
    "### standard deviation of r/gamma using propagation error "
   ]
  },
  {
   "cell_type": "code",
   "execution_count": 124,
   "id": "c76627f1-e9ac-406d-9caa-8b8adc00e8cc",
   "metadata": {},
   "outputs": [],
   "source": [
    "# for  5DL1\n",
    "error_reinforce = (r_best/g_best) * ((std_r_reinforce/r_best)**2 + (std_g_reinforce/g_best)**2)**0.5\n",
    "\n",
    "error_baseline = (r_b/g_b) * ((std_r_baseline/r_b)**2 + (std_g_baseline/g_b)**2)**0.5\n",
    "\n",
    "# for lacUD5\n",
    "error_reinforce_lacUD5 = (r_lacUD5/g_lacUD5) * ((std_r_reinforce_lacUD5/r_lacUD5)**2 + (std_g_reinforce_lacUD5/g_lacUD5)**2)**0.5\n",
    "\n",
    "error_baseline_lacUD5 = (r_b_lacUD5/g_b_lacUD5) * ((std_r_baseline_lacUD5/r_b_lacUD5)**2 + (std_g_baseline_lacUD5/g_b_lacUD5)**2)**0.5\n"
   ]
  },
  {
   "cell_type": "markdown",
   "id": "c55381c0-5deb-4f54-a835-4566cc22624b",
   "metadata": {},
   "source": [
    "### values from DGA"
   ]
  },
  {
   "cell_type": "code",
   "execution_count": 126,
   "id": "ff5327ef-dff5-4800-90ad-99613693e0c9",
   "metadata": {},
   "outputs": [],
   "source": [
    "error_dga = 2.2714915869659795\n",
    "error_dga_lacUD5 = 3.012052160263097"
   ]
  },
  {
   "cell_type": "markdown",
   "id": "454cc73c-6c7a-4e0b-97a1-bf453ddcefb9",
   "metadata": {},
   "source": [
    "### values from RLOO"
   ]
  },
  {
   "cell_type": "code",
   "execution_count": 128,
   "id": "2b84eae8-36c0-4719-8356-25342468e885",
   "metadata": {},
   "outputs": [],
   "source": [
    "error_rloo = 1.7814918891073566\n",
    "error_rloo_lacUD5 = 1.7810254165954216"
   ]
  },
  {
   "cell_type": "markdown",
   "id": "86601d66-d8c9-4099-b5dc-419ca580d4f5",
   "metadata": {},
   "source": [
    "### Bar Plot"
   ]
  },
  {
   "cell_type": "code",
   "execution_count": 139,
   "id": "f054f705-8565-44e7-aaa6-f10bc9716acc",
   "metadata": {},
   "outputs": [
    {
     "data": {
      "image/png": "[encoded data removed]",
      "text/plain": [
       "<Figure size 1200x800 with 1 Axes>"
      ]
     },
     "metadata": {},
     "output_type": "display_data"
    }
   ],
   "source": [
    "barWidth = 0.25\n",
    "fig = plt.subplots(figsize =(12, 8)) \n",
    "\n",
    "R = [ratio_r, ratio_r_lacUD5] \n",
    "R_B = [ratio_b, ratio_b_lacUD5] \n",
    "DGA = [ratio_dga, ratio_dga_lacUD5] \n",
    "RLOO = [ratio_rloo, ratio_rloo_lacUD5]\n",
    "exp = [ratio_exp, ratio_exp_lacUD5]\n",
    "\n",
    "err_R = [error_reinforce, error_reinforce_lacUD5] \n",
    "err_R_B = [error_baseline, error_baseline_lacUD5] \n",
    "err_DGA = [error_dga, error_dga_lacUD5] \n",
    "err_RLOO = [error_rloo, error_rloo_lacUD5]\n",
    "\n",
    "#br1 = np.arange(len(R)) \n",
    "group_spacing = 1.35  # try values between 1.2 and 2.0 depending on desired space\n",
    "br1 = np.array([0, group_spacing])\n",
    "br2 = [x + barWidth for x in br1] \n",
    "br3 = [x + barWidth for x in br2] \n",
    "br4 = [x + barWidth for x in br3] \n",
    "br5 = [x + barWidth for x in br4] \n",
    "\n",
    "plt.bar(br1, R, color ='cornflowerblue', width = barWidth, \n",
    "        edgecolor ='grey', label ='REINFORCE', yerr=err_R,\n",
    "        error_kw=dict(ecolor='red', lw=1, capsize=5, capthick=1)) \n",
    "plt.bar(br2, R_B, color ='lightskyblue', width = barWidth, \n",
    "        edgecolor ='grey', label ='REINFORCE with Baseline', yerr=err_R_B,\n",
    "        error_kw=dict(ecolor='red', lw=1, capsize=5, capthick=1)) \n",
    "plt.bar(br3, RLOO, color ='lightblue', width = barWidth, \n",
    "        edgecolor ='grey', label ='RLOO', yerr=err_RLOO,\n",
    "        error_kw=dict(ecolor='red', lw=1, capsize=5, capthick=1)) \n",
    "plt.bar(br4, DGA, color ='steelblue', width = barWidth, \n",
    "        edgecolor ='grey', label ='DGA', yerr=err_DGA,\n",
    "        error_kw=dict(ecolor='red', lw=1, capsize=5, capthick=1)) \n",
    "plt.bar(br5, exp, color ='navy', width = barWidth, \n",
    "        edgecolor ='grey', label ='Experimental') \n",
    "\n",
    "#plt.xlabel('Branch', fontweight ='bold', fontsize = 15) \n",
    "plt.ylabel('Normalized transcription rate $r/ \\\\gamma$', fontsize = 15) \n",
    "#plt.xticks([r + barWidth for r in range(len(R))], \n",
    "        #['5DL1', 'lacUD5'])\n",
    "plt.xticks([barWidth+0.13, group_spacing+barWidth+0.13], \n",
    "        ['5DL1', 'lacUD5'])\n",
    "\n",
    "plt.legend()\n",
    "plt.savefig(\"bar_plot2.png\", dpi=150)\n",
    "plt.show() "
   ]
  },
  {
   "cell_type": "code",
   "execution_count": null,
   "id": "cb110ddc-f1c3-4d65-8290-1fa776e0b811",
   "metadata": {},
   "outputs": [],
   "source": []
  }
 ],
 "metadata": {
  "kernelspec": {
   "display_name": "Python [conda env:base] *",
   "language": "python",
   "name": "conda-base-py"
  },
  "language_info": {
   "codemirror_mode": {
    "name": "ipython",
    "version": 3
   },
   "file_extension": ".py",
   "mimetype": "text/x-python",
   "name": "python",
   "nbconvert_exporter": "python",
   "pygments_lexer": "ipython3",
   "version": "3.12.7"
  }
 },
 "nbformat": 4,
 "nbformat_minor": 5
}
