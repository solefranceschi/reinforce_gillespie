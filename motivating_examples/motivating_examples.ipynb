{
 "cells": [
  {
   "cell_type": "code",
   "execution_count": 1,
   "id": "f47c1e3c-a777-4510-af07-2c6e63826b34",
   "metadata": {},
   "outputs": [],
   "source": [
    "import jax\n",
    "import jax.numpy as jnp\n",
    "from jax import grad, random\n",
    "from jax import lax\n",
    "import unittest\n",
    "import matplotlib.animation as animation\n",
    "import matplotlib.pyplot as plt\n",
    "import numpy as np\n",
    "#!pip install optax\n",
    "import optax"
   ]
  },
  {
   "cell_type": "code",
   "execution_count": 3,
   "id": "28f0e993-db05-42ee-822e-cec896492f45",
   "metadata": {},
   "outputs": [
    {
     "name": "stdout",
     "output_type": "stream",
     "text": [
      "Estimated REINFORCE gradient for Binomial Distribution: 5.9976153\n"
     ]
    }
   ],
   "source": [
    "# Random key\n",
    "key = jax.random.PRNGKey(42)\n",
    "\n",
    "# Sampling from Binomial\n",
    "def binomial_f(key, n, p, num_samples):\n",
    "    return jax.random.binomial(key, n=n, p=p, shape=(num_samples,)).astype(int)\n",
    "\n",
    "# Log-probability of Binomial sample\n",
    "def log_binomial(x, n, p):\n",
    "    return x * jnp.log(p) + (n - x) * jnp.log(1 - p)\n",
    "\n",
    "# Gradient of log P(x | p) w.r.t. p\n",
    "def grad_log_binomial(x, n, p):\n",
    "    return jax.grad(lambda p_: log_binomial(x, n, p_))(p)\n",
    "\n",
    "# REINFORCE-style estimator\n",
    "def reinforce(key, n, p, num_samples, sample_fn, grad_log_prob_fn, reward_fn=lambda x: x):\n",
    "    # Sample from the distribution\n",
    "    key, subkey = jax.random.split(key)\n",
    "    samples = sample_fn(subkey, n, p, num_samples)\n",
    "    \n",
    "    # Apply reward function (can be identity or custom)\n",
    "    rewards = reward_fn(samples)\n",
    "\n",
    "    # Vectorize gradient function\n",
    "    grad_fn = jax.vmap(lambda x: grad_log_prob_fn(x, n, p))\n",
    "    grads = grad_fn(samples)\n",
    "\n",
    "    # Estimate expected gradient using REINFORCE\n",
    "    return jnp.mean(rewards * grads), samples, grads\n",
    "\n",
    "\n",
    "# Parameters\n",
    "n = 6\n",
    "p = 0.3\n",
    "num_samples = 1000000\n",
    "sample_fn = binomial_f\n",
    "grad_log_prob_fn = grad_log_binomial\n",
    "\n",
    "# Run REINFORCE\n",
    "grad_estimate, samples, grads = reinforce(key, n, p, num_samples, sample_fn, grad_log_prob_fn)\n",
    "\n",
    "print(\"Estimated REINFORCE gradient for Binomial Distribution:\", grad_estimate)"
   ]
  },
  {
   "cell_type": "code",
   "execution_count": 5,
   "id": "c0cb767c-49c9-4e89-a1f0-00b1009b729f",
   "metadata": {},
   "outputs": [
    {
     "name": "stdout",
     "output_type": "stream",
     "text": [
      "Estimated REINFORCE gradient for Random Walk: 20.125715\n"
     ]
    }
   ],
   "source": [
    "#random walk\n",
    "def s_to_random_walk(s, n):\n",
    "    return 2 * s - n\n",
    "\n",
    "def random_walk_to_s(w, n):\n",
    "    return (w + n) // 2 \n",
    "\n",
    "def random_walk_f(key, n, p, num_samples):\n",
    "    return s_to_random_walk(binomial_f(key, n, p, num_samples), n)\n",
    "\n",
    "def grad_log_random_walk(w, n, p):\n",
    "    s = random_walk_to_s(w, n)\n",
    "    return grad_log_binomial(s, n, p)\n",
    "\n",
    "#parameters\n",
    "key = jax.random.PRNGKey(42)\n",
    "n = 10\n",
    "p = 0.3\n",
    "num_samples = 100000\n",
    "#convert binomial to random walk sample\n",
    "sample_fn=random_walk_f\n",
    "grad_log_prob_fn=grad_log_random_walk\n",
    "\n",
    "#run\n",
    "grad_estimate, samples_w, grads = reinforce(key, n, p, num_samples, sample_fn, grad_log_prob_fn)\n",
    "\n",
    "print(\"Estimated REINFORCE gradient for Random Walk:\", grad_estimate)\n"
   ]
  },
  {
   "cell_type": "code",
   "execution_count": 7,
   "id": "1c13a18d-59e5-4487-b0ea-1853dfd0c965",
   "metadata": {},
   "outputs": [],
   "source": [
    "def findNextGen(mat):\n",
    "    m, n = mat.shape\n",
    "\n",
    "    directions = [(0, 1), (1, 0), (0, -1), (-1, 0),\n",
    "                  (1, 1), (-1, -1), (1, -1), (-1, 1)]\n",
    "\n",
    "    for i in range(m):\n",
    "        for j in range(n):\n",
    "            live = 0\n",
    "\n",
    "            for dx, dy in directions:\n",
    "                x, y = i + dx, j + dy\n",
    "                if 0 <= x < m and 0 <= y < n and (mat[x, y] == 1 or mat[x, y] == 3):\n",
    "                    live += 1\n",
    "\n",
    "            if mat[i, j] == 1 and (live < 2 or live > 3):\n",
    "                mat = mat.at[i, j].set(3)\n",
    "            elif mat[i, j] == 0 and live == 3:\n",
    "                mat = mat.at[i, j].set(2)\n",
    "\n",
    "    # Finalize state transitions\n",
    "    \n",
    "    for i in range(m):\n",
    "        for j in range(n):\n",
    "            if mat[i, j] == 2:\n",
    "                mat = mat.at[i, j].set(1)\n",
    "            elif mat[i, j] == 3:\n",
    "                mat = mat.at[i, j].set(0)\n",
    "            print(mat[i, j], end=\" \")\n",
    "        print()\n",
    "\n",
    "    #return mat\n",
    "\n"
   ]
  },
  {
   "cell_type": "code",
   "execution_count": 9,
   "id": "ee30f882-2b91-480e-80a2-a1ac31983d6c",
   "metadata": {
    "scrolled": true
   },
   "outputs": [
    {
     "name": "stdout",
     "output_type": "stream",
     "text": [
      "[[0 0 1 1 1 1 1 1 1 1]\n",
      " [1 1 0 0 0 1 1 0 1 1]\n",
      " [1 0 1 0 1 0 0 0 0 1]\n",
      " [1 1 1 0 1 1 0 1 0 1]\n",
      " [1 0 1 1 1 1 0 0 0 1]\n",
      " [1 0 0 1 1 0 1 0 1 0]\n",
      " [0 1 0 1 0 1 0 1 0 1]\n",
      " [1 1 1 0 0 0 0 1 1 0]\n",
      " [1 1 1 1 0 1 0 0 0 0]\n",
      " [1 0 1 0 1 0 1 0 0 1]]\n",
      "0 1 1 1 1 0 0 0 0 1 \n",
      "1 0 0 0 0 0 0 0 0 0 \n",
      "0 0 1 0 1 0 0 1 0 1 \n",
      "1 0 0 0 0 0 1 0 0 1 \n",
      "1 0 0 0 0 0 0 1 0 1 \n",
      "1 0 0 0 0 0 1 1 1 1 \n",
      "0 0 0 1 0 1 0 0 0 1 \n",
      "0 0 0 0 0 0 0 1 1 0 \n",
      "0 0 0 0 1 1 1 1 1 0 \n",
      "1 0 1 0 1 1 0 0 0 0 \n"
     ]
    }
   ],
   "source": [
    "p = 0.5\n",
    "N = 10\n",
    "key = jax.random.PRNGKey(42)   # master key\n",
    "key, subkey = jax.random.split(key)  # use subkey for sampling\n",
    "grid = jax.random.bernoulli(subkey, p=p, shape=(N, N)).astype(jnp.int32)\n",
    "print(grid)\n",
    "findNextGen(grid)"
   ]
  },
  {
   "cell_type": "code",
   "execution_count": 11,
   "id": "09b2a3ac-5ae4-44f6-b13d-2edb486131a2",
   "metadata": {},
   "outputs": [
    {
     "data": {
      "text/plain": [
       "Array(0.2543347, dtype=float32)"
      ]
     },
     "execution_count": 11,
     "metadata": {},
     "output_type": "execute_result"
    }
   ],
   "source": [
    "#stochastic game of life\n",
    "#normal game of life is deterministic, hence we introduce a probability of a cell being dead or alive to introduce randomness\n",
    "\n",
    "def count_neighbors(grid):\n",
    "    \"\"\"Count live neighbors using convolution\"\"\"\n",
    "    kernel = jnp.array([[1, 1, 1],\n",
    "                        [1, 0, 1],\n",
    "                        [1, 1, 1]])\n",
    "\n",
    "    # Pad the grid and convolve\n",
    "    padded = jnp.pad(grid, pad_width=1, mode='constant', constant_values=0)\n",
    "    neighbor_count = lax.conv_general_dilated(\n",
    "        padded[None, None, :, :],  # shape (1, 1, H+2, W+2)\n",
    "        kernel[None, None, :, :],  # shape (1, 1, 3, 3)\n",
    "        window_strides=(1, 1),\n",
    "        padding='VALID',\n",
    "        dimension_numbers=('NCHW', 'OIHW', 'NCHW')\n",
    "    )[0, 0]\n",
    "    return neighbor_count\n",
    "\n",
    "@jax.jit\n",
    "def update_stochastic(key, grid, p=0.95):\n",
    "    \"\"\"Compute the next generation using Game of Life rules (stochastic version)\"\"\"\n",
    "    neighbors = count_neighbors(grid)\n",
    "    deterministic_living = (grid == 1) & ((neighbors == 2) | (neighbors == 3))\n",
    "    deterministic_new = (grid == 0) & (neighbors == 3)\n",
    "\n",
    "    # Generate random masks\n",
    "    key1, key2 = jax.random.split(key)\n",
    "    survive_mask = jax.random.bernoulli(key1, p, shape=grid.shape)\n",
    "    new_mask = jax.random.bernoulli(key2, p, shape=grid.shape)\n",
    "\n",
    "    # Apply randomness only where rules apply\n",
    "    living = deterministic_living & survive_mask\n",
    "    new = deterministic_new & new_mask\n",
    "\n",
    "    return (living | new).astype(jnp.int32)\n",
    "\n",
    "def run_game(k, init, T):\n",
    "    grid = init\n",
    "    for i in range(T):\n",
    "        k, subk = jax.random.split(k)\n",
    "        grid = update_stochastic(subk, grid)\n",
    "    return grid\n",
    "\n",
    "def game_of_life(key, p, T, N, num_samples):\n",
    "    keys = jax.random.split(key, num_samples)\n",
    "    \n",
    "    def one_game(k):\n",
    "        init = jax.random.bernoulli(k, p=p, shape=(N, N)).astype(jnp.int32)\n",
    "        final = run_game(k, init, T)\n",
    "        reward = jnp.sum(final)\n",
    "        log_prob = jnp.sum(init * jnp.log(p) + (1 - init) * jnp.log(1 - p))\n",
    "        grad_log = jnp.sum(init / p - (1 - init) / (1 - p))\n",
    "        #REINFORCE estimate: reward × ∇log P(init)\n",
    "        return reward * grad_log\n",
    "\n",
    "    #Vectorize over all simulations\n",
    "    grads = jax.vmap(one_game)(keys)\n",
    "    #Monte Carlo average\n",
    "    return jnp.mean(grads)\n",
    "\n",
    "#set parameters\n",
    "key = jax.random.PRNGKey(42)   # master key\n",
    "key, subkey = jax.random.split(key)  # use subkey for sampling\n",
    "N=10\n",
    "p = 0.4 #initial probability while creating grid \n",
    "num_samples = 100000\n",
    "T = 100\n",
    "\n",
    "grid = jax.random.bernoulli(subkey, p=p, shape=(N, N)).astype(jnp.int32)\n",
    "\n",
    "game_of_life(key, p, T, N, num_samples)"
   ]
  },
  {
   "cell_type": "code",
   "execution_count": 12,
   "id": "ed175658-037b-46d0-adec-ec279ccc4cb1",
   "metadata": {},
   "outputs": [],
   "source": [
    "key = jax.random.PRNGKey(42)\n",
    "N = 6\n",
    "T = 10\n",
    "num_samples = 10000\n",
    "p_vals = [0.1, 0.15, 0.2, 0.25, 0.3, 0.35, 0.4, 0.45, 0.5,\n",
    "          0.55, 0.6, 0.65, 0.7, 0.75, 0.8, 0.85, 0.9, 0.95]\n",
    "grad = []\n",
    "for i, prob in enumerate(p_vals):\n",
    "    key, subkey = jax.random.split(key)\n",
    "    grad.append(game_of_life(subkey, prob, T, N, num_samples))\n"
   ]
  },
  {
   "cell_type": "code",
   "execution_count": 19,
   "id": "1a306bcc-0ff7-43ab-a880-5029024c09d6",
   "metadata": {},
   "outputs": [
    {
     "data": {
      "image/png": "[encoded data removed]",
      "text/plain": [
       "<Figure size 800x600 with 1 Axes>"
      ]
     },
     "metadata": {},
     "output_type": "display_data"
    }
   ],
   "source": [
    "import matplotlib.pyplot as plt\n",
    "plt.figure(figsize=(8,6)) \n",
    "plt.plot(p_vals, grad, marker='o', color = \"navy\")\n",
    "plt.xlabel('Initial Probability p', fontsize = 16)\n",
    "plt.ylabel('Estimated Gradient of Expected Reward', fontsize = 16)\n",
    "plt.xticks(fontsize=15)\n",
    "plt.yticks(fontsize=15)\n",
    "#plt.title('REINFORCE Gradient vs Initial Probability in Game of Life')\n",
    "\n",
    "plt.grid(True)\n",
    "plt.savefig(\"probability.png\", dpi=150)\n",
    "plt.show()\n"
   ]
  },
  {
   "cell_type": "code",
   "execution_count": 95,
   "id": "8ceb35c4-c5c2-4c7d-9b97-8ea9520d02c8",
   "metadata": {},
   "outputs": [
    {
     "name": "stdout",
     "output_type": "stream",
     "text": [
      "REINFORCE grad: -28.7234\n",
      "Finite diff grad: -29.5695\n"
     ]
    }
   ],
   "source": [
    "#test against finite difference \n",
    "\n",
    "def reward(key, p, T, N, num_samples):\n",
    "    keys = jax.random.split(key, num_samples)\n",
    "    \n",
    "    def one_iter(k):\n",
    "        init = jax.random.bernoulli(k, p=p, shape=(N, N)).astype(jnp.int32)\n",
    "        final = run_game(k, init, T)\n",
    "        reward = jnp.sum(final)\n",
    "        return reward\n",
    "\n",
    "    #Vectorize over all simulations\n",
    "    rewards = jax.vmap(one_iter)(keys)\n",
    "    #Monte Carlo average\n",
    "    return jnp.mean(rewards)\n",
    "\n",
    "def finite_difference_estimate(p, key, T, N, num_samples=10000, h=1e-2):\n",
    "    # Use common random numbers by fixing seeds\n",
    "    key1, key2 = jax.random.split(key)\n",
    "    \n",
    "    # Compute E[R(x)] at p + h\n",
    "    reward_plus = reward(key1, p + h, T, N, num_samples)\n",
    "    \n",
    "    # Compute E[R(x)] at p - h\n",
    "    reward_minus = reward(key2, p - h, T, N, num_samples)\n",
    "    \n",
    "    # Central difference\n",
    "    grad_fd = (reward_plus - reward_minus) / (2 * h)\n",
    "    return grad_fd\n",
    "\n",
    "key = jax.random.PRNGKey(42)\n",
    "p = 0.5\n",
    "T = 10\n",
    "N = 10\n",
    "num_samples = 100000\n",
    "\n",
    "# REINFORCE gradient estimate\n",
    "reinforce_grad = game_of_life(key, p, T, N, num_samples)\n",
    "\n",
    "# Finite difference estimate\n",
    "fd_grad = finite_difference_estimate(p, key, T, N, num_samples)\n",
    "\n",
    "print(f\"REINFORCE grad: {reinforce_grad:.4f}\")\n",
    "print(f\"Finite diff grad: {fd_grad:.4f}\")\n",
    "\n",
    "#REINFORCE and Finite Difference Gradient match"
   ]
  },
  {
   "cell_type": "code",
   "execution_count": 81,
   "id": "6fb6e6ff-758d-49d9-a964-ffd7e638f914",
   "metadata": {},
   "outputs": [
    {
     "data": {
      "image/png": "[encoded data removed]",
      "text/plain": [
       "<Figure size 640x480 with 1 Axes>"
      ]
     },
     "metadata": {},
     "output_type": "display_data"
    }
   ],
   "source": [
    "# Initialize grid\n",
    "key = jax.random.PRNGKey(10)\n",
    "N = 10\n",
    "T = 10\n",
    "grid = jax.random.bernoulli(key, p=0.1, shape=(N, N)).astype(jnp.int32)\n",
    "\n",
    "# Precompute frames\n",
    "frames = []\n",
    "for _ in range(T):\n",
    "    frames.append(np.array(grid))  # Convert from JAX to NumPy\n",
    "    grid = update_stochastic(key, grid)\n",
    "\n",
    "# Create plot\n",
    "fig, ax = plt.subplots()\n",
    "img = ax.imshow(frames[0], cmap='binary', interpolation='nearest')\n",
    "ax.axis('off')  # Hide axes\n",
    "\n",
    "def animate(i):\n",
    "    img.set_data(frames[i])\n",
    "    return [img]\n",
    "\n",
    "anim = animation.FuncAnimation(fig, animate, frames=len(frames), interval=100, blit=False)\n",
    "#anim.save(\"game_of_life_5.mp4\", writer=\"ffmpeg\", fps=10)\n",
    "\n",
    "plt.show()\n",
    "\n"
   ]
  }
 ],
 "metadata": {
  "kernelspec": {
   "display_name": "Python [conda env:base] *",
   "language": "python",
   "name": "conda-base-py"
  },
  "language_info": {
   "codemirror_mode": {
    "name": "ipython",
    "version": 3
   },
   "file_extension": ".py",
   "mimetype": "text/x-python",
   "name": "python",
   "nbconvert_exporter": "python",
   "pygments_lexer": "ipython3",
   "version": "3.12.7"
  }
 },
 "nbformat": 4,
 "nbformat_minor": 5
}
