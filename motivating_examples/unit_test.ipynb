{
 "cells": [
  {
   "cell_type": "code",
   "execution_count": 4,
   "id": "fe88ce1f-7e10-4426-a6f8-fc744fbe7fdf",
   "metadata": {},
   "outputs": [
    {
     "ename": "ModuleNotFoundError",
     "evalue": "No module named 'thesis'",
     "output_type": "error",
     "traceback": [
      "\u001b[0;31m---------------------------------------------------------------------------\u001b[0m",
      "\u001b[0;31mModuleNotFoundError\u001b[0m                       Traceback (most recent call last)",
      "Cell \u001b[0;32mIn[4], line 4\u001b[0m\n\u001b[1;32m      2\u001b[0m \u001b[38;5;28;01mimport\u001b[39;00m \u001b[38;5;21;01mjax\u001b[39;00m\n\u001b[1;32m      3\u001b[0m \u001b[38;5;28;01mimport\u001b[39;00m \u001b[38;5;21;01mjax\u001b[39;00m\u001b[38;5;21;01m.\u001b[39;00m\u001b[38;5;21;01mnumpy\u001b[39;00m \u001b[38;5;28;01mas\u001b[39;00m \u001b[38;5;21;01mjnp\u001b[39;00m\n\u001b[0;32m----> 4\u001b[0m \u001b[38;5;28;01mfrom\u001b[39;00m \u001b[38;5;21;01mthesis\u001b[39;00m \u001b[38;5;28;01mimport\u001b[39;00m reinforce, binomial_f, grad_log_binomial\n\u001b[1;32m      5\u001b[0m \u001b[38;5;28;01mfrom\u001b[39;00m \u001b[38;5;21;01mthesis\u001b[39;00m \u001b[38;5;28;01mimport\u001b[39;00m s_to_random_walk, grad_log_random_walk, random_walk_f\n\u001b[1;32m      7\u001b[0m \u001b[38;5;28;01mclass\u001b[39;00m \u001b[38;5;21;01mTestReinforceGeneric\u001b[39;00m(unittest\u001b[38;5;241m.\u001b[39mTestCase):\n",
      "\u001b[0;31mModuleNotFoundError\u001b[0m: No module named 'thesis'"
     ]
    }
   ],
   "source": [
    "import unittest\n",
    "import jax\n",
    "import jax.numpy as jnp\n",
    "from thesis import reinforce, binomial_f, grad_log_binomial\n",
    "from thesis import s_to_random_walk, grad_log_random_walk, random_walk_f\n",
    "from thesis import count_neighbors, update_stochastic, run_game, game_of_life, reward, finite_difference_estimate\n",
    "\n",
    "class TestReinforceGeneric(unittest.TestCase):\n",
    "\n",
    "    def reinforce_test(self, n, p, num_samples, sample_fn, grad_log_prob_fn, expected_grad, delta=0.1):\n",
    "        key = jax.random.PRNGKey(0)\n",
    "        grad_est, _, _ = reinforce(key, n, p, num_samples, sample_fn, grad_log_prob_fn)\n",
    "        self.assertAlmostEqual(grad_est, expected_grad, delta=delta)\n",
    "\n",
    "    def test_binomial(self):\n",
    "        self.reinforce_test(\n",
    "            n=2,\n",
    "            p=0.3,\n",
    "            num_samples=1000000,\n",
    "            sample_fn=binomial_f,\n",
    "            grad_log_prob_fn=grad_log_binomial,\n",
    "            expected_grad=2  # d/dp E[X] = n\n",
    "        )\n",
    "\n",
    "    def test_random_walk(self):\n",
    "        self.reinforce_test(\n",
    "            n=2,\n",
    "            p=0.3,\n",
    "            num_samples=1000000,\n",
    "            sample_fn=random_walk_f,\n",
    "            grad_log_prob_fn=grad_log_random_walk,\n",
    "            expected_grad=4  # d/dp E[W_n] = 4 for n=2\n",
    "        )\n",
    "        \n",
    "    #testing stochastic game of life using finite difference\n",
    "    def test_game_of_life(self):\n",
    "            key = jax.random.PRNGKey(42)\n",
    "            p = 0.5\n",
    "            T = 10\n",
    "            N = 10\n",
    "            num_samples = 100_000\n",
    "            tolerance = 0.05  # 5%\n",
    "    \n",
    "            reinforce_grad = game_of_life(key, p, T, N, num_samples)\n",
    "            fd_grad = finite_difference_estimate(p, key, T, N, num_samples)\n",
    "    \n",
    "            relative_error = jnp.abs(reinforce_grad - fd_grad) / jnp.abs(fd_grad)\n",
    "            print(f\"REINFORCE: {reinforce_grad:.4f}, FD: {fd_grad:.4f}, Error: {relative_error:.4%}\")\n",
    "    \n",
    "            self.assertLessEqual(relative_error, tolerance, \"Gradient estimate is not within 5% tolerance\")\n",
    "\n",
    "\n",
    "if __name__ == '__main__':\n",
    "    unittest.main()\n"
   ]
  }
 ],
 "metadata": {
  "kernelspec": {
   "display_name": "Python [conda env:base] *",
   "language": "python",
   "name": "conda-base-py"
  },
  "language_info": {
   "codemirror_mode": {
    "name": "ipython",
    "version": 3
   },
   "file_extension": ".py",
   "mimetype": "text/x-python",
   "name": "python",
   "nbconvert_exporter": "python",
   "pygments_lexer": "ipython3",
   "version": "3.12.7"
  }
 },
 "nbformat": 4,
 "nbformat_minor": 5
}
